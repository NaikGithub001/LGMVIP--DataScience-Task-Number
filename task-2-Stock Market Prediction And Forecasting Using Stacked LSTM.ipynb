{
 "cells": [
  {
   "cell_type": "markdown",
   "id": "a7333459",
   "metadata": {},
   "source": [
    "# Stock Market Prediction And Forecasting Using Stacked LSTM task2"
   ]
  },
  {
   "cell_type": "markdown",
   "id": "2b3d6244",
   "metadata": {},
   "source": [
    "# import libraries"
   ]
  },
  {
   "cell_type": "code",
   "execution_count": 1,
   "id": "9453c1de",
   "metadata": {
    "scrolled": false
   },
   "outputs": [],
   "source": [
    "import pandas as pd\n",
    "import numpy as np\n",
    "import matplotlib.pyplot as plt\n",
    "%matplotlib inline\n",
    "import seaborn as sns\n",
    "import tensorflow as tf\n",
    "from tensorflow import keras\n",
    "from sklearn.preprocessing import MinMaxScaler"
   ]
  },
  {
   "cell_type": "markdown",
   "id": "c7df3d08",
   "metadata": {},
   "source": [
    "# import dataset"
   ]
  },
  {
   "cell_type": "code",
   "execution_count": 2,
   "id": "1affa535",
   "metadata": {},
   "outputs": [],
   "source": [
    "dataset = pd.read_csv('C:/Users/Dell/OneDrive/Desktop/stockprice_master_NSE-TATAGLOBAL.csv')"
   ]
  },
  {
   "cell_type": "code",
   "execution_count": 3,
   "id": "7f2fe057",
   "metadata": {},
   "outputs": [
    {
     "data": {
      "text/html": [
       "<div>\n",
       "<style scoped>\n",
       "    .dataframe tbody tr th:only-of-type {\n",
       "        vertical-align: middle;\n",
       "    }\n",
       "\n",
       "    .dataframe tbody tr th {\n",
       "        vertical-align: top;\n",
       "    }\n",
       "\n",
       "    .dataframe thead th {\n",
       "        text-align: right;\n",
       "    }\n",
       "</style>\n",
       "<table border=\"1\" class=\"dataframe\">\n",
       "  <thead>\n",
       "    <tr style=\"text-align: right;\">\n",
       "      <th></th>\n",
       "      <th>Date</th>\n",
       "      <th>Open</th>\n",
       "      <th>High</th>\n",
       "      <th>Low</th>\n",
       "      <th>Last</th>\n",
       "      <th>Close</th>\n",
       "      <th>Total Trade Quantity</th>\n",
       "      <th>Turnover (Lacs)</th>\n",
       "    </tr>\n",
       "  </thead>\n",
       "  <tbody>\n",
       "    <tr>\n",
       "      <th>0</th>\n",
       "      <td>2018-09-28</td>\n",
       "      <td>234.05</td>\n",
       "      <td>235.95</td>\n",
       "      <td>230.20</td>\n",
       "      <td>233.50</td>\n",
       "      <td>233.75</td>\n",
       "      <td>3069914</td>\n",
       "      <td>7162.35</td>\n",
       "    </tr>\n",
       "    <tr>\n",
       "      <th>1</th>\n",
       "      <td>2018-09-27</td>\n",
       "      <td>234.55</td>\n",
       "      <td>236.80</td>\n",
       "      <td>231.10</td>\n",
       "      <td>233.80</td>\n",
       "      <td>233.25</td>\n",
       "      <td>5082859</td>\n",
       "      <td>11859.95</td>\n",
       "    </tr>\n",
       "    <tr>\n",
       "      <th>2</th>\n",
       "      <td>2018-09-26</td>\n",
       "      <td>240.00</td>\n",
       "      <td>240.00</td>\n",
       "      <td>232.50</td>\n",
       "      <td>235.00</td>\n",
       "      <td>234.25</td>\n",
       "      <td>2240909</td>\n",
       "      <td>5248.60</td>\n",
       "    </tr>\n",
       "    <tr>\n",
       "      <th>3</th>\n",
       "      <td>2018-09-25</td>\n",
       "      <td>233.30</td>\n",
       "      <td>236.75</td>\n",
       "      <td>232.00</td>\n",
       "      <td>236.25</td>\n",
       "      <td>236.10</td>\n",
       "      <td>2349368</td>\n",
       "      <td>5503.90</td>\n",
       "    </tr>\n",
       "    <tr>\n",
       "      <th>4</th>\n",
       "      <td>2018-09-24</td>\n",
       "      <td>233.55</td>\n",
       "      <td>239.20</td>\n",
       "      <td>230.75</td>\n",
       "      <td>234.00</td>\n",
       "      <td>233.30</td>\n",
       "      <td>3423509</td>\n",
       "      <td>7999.55</td>\n",
       "    </tr>\n",
       "  </tbody>\n",
       "</table>\n",
       "</div>"
      ],
      "text/plain": [
       "         Date    Open    High     Low    Last   Close  Total Trade Quantity  \\\n",
       "0  2018-09-28  234.05  235.95  230.20  233.50  233.75               3069914   \n",
       "1  2018-09-27  234.55  236.80  231.10  233.80  233.25               5082859   \n",
       "2  2018-09-26  240.00  240.00  232.50  235.00  234.25               2240909   \n",
       "3  2018-09-25  233.30  236.75  232.00  236.25  236.10               2349368   \n",
       "4  2018-09-24  233.55  239.20  230.75  234.00  233.30               3423509   \n",
       "\n",
       "   Turnover (Lacs)  \n",
       "0          7162.35  \n",
       "1         11859.95  \n",
       "2          5248.60  \n",
       "3          5503.90  \n",
       "4          7999.55  "
      ]
     },
     "execution_count": 3,
     "metadata": {},
     "output_type": "execute_result"
    }
   ],
   "source": [
    "dataset.head()"
   ]
  },
  {
   "cell_type": "code",
   "execution_count": 4,
   "id": "b41ca365",
   "metadata": {},
   "outputs": [
    {
     "data": {
      "text/html": [
       "<div>\n",
       "<style scoped>\n",
       "    .dataframe tbody tr th:only-of-type {\n",
       "        vertical-align: middle;\n",
       "    }\n",
       "\n",
       "    .dataframe tbody tr th {\n",
       "        vertical-align: top;\n",
       "    }\n",
       "\n",
       "    .dataframe thead th {\n",
       "        text-align: right;\n",
       "    }\n",
       "</style>\n",
       "<table border=\"1\" class=\"dataframe\">\n",
       "  <thead>\n",
       "    <tr style=\"text-align: right;\">\n",
       "      <th></th>\n",
       "      <th>Date</th>\n",
       "      <th>Open</th>\n",
       "      <th>High</th>\n",
       "      <th>Low</th>\n",
       "      <th>Last</th>\n",
       "      <th>Close</th>\n",
       "      <th>Total Trade Quantity</th>\n",
       "      <th>Turnover (Lacs)</th>\n",
       "    </tr>\n",
       "  </thead>\n",
       "  <tbody>\n",
       "    <tr>\n",
       "      <th>2030</th>\n",
       "      <td>2010-07-27</td>\n",
       "      <td>117.6</td>\n",
       "      <td>119.50</td>\n",
       "      <td>112.00</td>\n",
       "      <td>118.80</td>\n",
       "      <td>118.65</td>\n",
       "      <td>586100</td>\n",
       "      <td>694.98</td>\n",
       "    </tr>\n",
       "    <tr>\n",
       "      <th>2031</th>\n",
       "      <td>2010-07-26</td>\n",
       "      <td>120.1</td>\n",
       "      <td>121.00</td>\n",
       "      <td>117.10</td>\n",
       "      <td>117.10</td>\n",
       "      <td>117.60</td>\n",
       "      <td>658440</td>\n",
       "      <td>780.01</td>\n",
       "    </tr>\n",
       "    <tr>\n",
       "      <th>2032</th>\n",
       "      <td>2010-07-23</td>\n",
       "      <td>121.8</td>\n",
       "      <td>121.95</td>\n",
       "      <td>120.25</td>\n",
       "      <td>120.35</td>\n",
       "      <td>120.65</td>\n",
       "      <td>281312</td>\n",
       "      <td>340.31</td>\n",
       "    </tr>\n",
       "    <tr>\n",
       "      <th>2033</th>\n",
       "      <td>2010-07-22</td>\n",
       "      <td>120.3</td>\n",
       "      <td>122.00</td>\n",
       "      <td>120.25</td>\n",
       "      <td>120.75</td>\n",
       "      <td>120.90</td>\n",
       "      <td>293312</td>\n",
       "      <td>355.17</td>\n",
       "    </tr>\n",
       "    <tr>\n",
       "      <th>2034</th>\n",
       "      <td>2010-07-21</td>\n",
       "      <td>122.1</td>\n",
       "      <td>123.00</td>\n",
       "      <td>121.05</td>\n",
       "      <td>121.10</td>\n",
       "      <td>121.55</td>\n",
       "      <td>658666</td>\n",
       "      <td>803.56</td>\n",
       "    </tr>\n",
       "  </tbody>\n",
       "</table>\n",
       "</div>"
      ],
      "text/plain": [
       "            Date   Open    High     Low    Last   Close  Total Trade Quantity  \\\n",
       "2030  2010-07-27  117.6  119.50  112.00  118.80  118.65                586100   \n",
       "2031  2010-07-26  120.1  121.00  117.10  117.10  117.60                658440   \n",
       "2032  2010-07-23  121.8  121.95  120.25  120.35  120.65                281312   \n",
       "2033  2010-07-22  120.3  122.00  120.25  120.75  120.90                293312   \n",
       "2034  2010-07-21  122.1  123.00  121.05  121.10  121.55                658666   \n",
       "\n",
       "      Turnover (Lacs)  \n",
       "2030           694.98  \n",
       "2031           780.01  \n",
       "2032           340.31  \n",
       "2033           355.17  \n",
       "2034           803.56  "
      ]
     },
     "execution_count": 4,
     "metadata": {},
     "output_type": "execute_result"
    }
   ],
   "source": [
    "dataset.tail()"
   ]
  },
  {
   "cell_type": "code",
   "execution_count": 5,
   "id": "586a5d28",
   "metadata": {},
   "outputs": [
    {
     "name": "stdout",
     "output_type": "stream",
     "text": [
      "<class 'pandas.core.frame.DataFrame'>\n",
      "RangeIndex: 2035 entries, 0 to 2034\n",
      "Data columns (total 8 columns):\n",
      " #   Column                Non-Null Count  Dtype  \n",
      "---  ------                --------------  -----  \n",
      " 0   Date                  2035 non-null   object \n",
      " 1   Open                  2035 non-null   float64\n",
      " 2   High                  2035 non-null   float64\n",
      " 3   Low                   2035 non-null   float64\n",
      " 4   Last                  2035 non-null   float64\n",
      " 5   Close                 2035 non-null   float64\n",
      " 6   Total Trade Quantity  2035 non-null   int64  \n",
      " 7   Turnover (Lacs)       2035 non-null   float64\n",
      "dtypes: float64(6), int64(1), object(1)\n",
      "memory usage: 127.3+ KB\n"
     ]
    }
   ],
   "source": [
    "dataset.info()"
   ]
  },
  {
   "cell_type": "code",
   "execution_count": 6,
   "id": "9b278333",
   "metadata": {},
   "outputs": [
    {
     "data": {
      "text/html": [
       "<div>\n",
       "<style scoped>\n",
       "    .dataframe tbody tr th:only-of-type {\n",
       "        vertical-align: middle;\n",
       "    }\n",
       "\n",
       "    .dataframe tbody tr th {\n",
       "        vertical-align: top;\n",
       "    }\n",
       "\n",
       "    .dataframe thead th {\n",
       "        text-align: right;\n",
       "    }\n",
       "</style>\n",
       "<table border=\"1\" class=\"dataframe\">\n",
       "  <thead>\n",
       "    <tr style=\"text-align: right;\">\n",
       "      <th></th>\n",
       "      <th>Open</th>\n",
       "      <th>High</th>\n",
       "      <th>Low</th>\n",
       "      <th>Last</th>\n",
       "      <th>Close</th>\n",
       "      <th>Total Trade Quantity</th>\n",
       "      <th>Turnover (Lacs)</th>\n",
       "    </tr>\n",
       "  </thead>\n",
       "  <tbody>\n",
       "    <tr>\n",
       "      <th>count</th>\n",
       "      <td>2035.000000</td>\n",
       "      <td>2035.000000</td>\n",
       "      <td>2035.000000</td>\n",
       "      <td>2035.000000</td>\n",
       "      <td>2035.00000</td>\n",
       "      <td>2.035000e+03</td>\n",
       "      <td>2035.000000</td>\n",
       "    </tr>\n",
       "    <tr>\n",
       "      <th>mean</th>\n",
       "      <td>149.713735</td>\n",
       "      <td>151.992826</td>\n",
       "      <td>147.293931</td>\n",
       "      <td>149.474251</td>\n",
       "      <td>149.45027</td>\n",
       "      <td>2.335681e+06</td>\n",
       "      <td>3899.980565</td>\n",
       "    </tr>\n",
       "    <tr>\n",
       "      <th>std</th>\n",
       "      <td>48.664509</td>\n",
       "      <td>49.413109</td>\n",
       "      <td>47.931958</td>\n",
       "      <td>48.732570</td>\n",
       "      <td>48.71204</td>\n",
       "      <td>2.091778e+06</td>\n",
       "      <td>4570.767877</td>\n",
       "    </tr>\n",
       "    <tr>\n",
       "      <th>min</th>\n",
       "      <td>81.100000</td>\n",
       "      <td>82.800000</td>\n",
       "      <td>80.000000</td>\n",
       "      <td>81.000000</td>\n",
       "      <td>80.95000</td>\n",
       "      <td>3.961000e+04</td>\n",
       "      <td>37.040000</td>\n",
       "    </tr>\n",
       "    <tr>\n",
       "      <th>25%</th>\n",
       "      <td>120.025000</td>\n",
       "      <td>122.100000</td>\n",
       "      <td>118.300000</td>\n",
       "      <td>120.075000</td>\n",
       "      <td>120.05000</td>\n",
       "      <td>1.146444e+06</td>\n",
       "      <td>1427.460000</td>\n",
       "    </tr>\n",
       "    <tr>\n",
       "      <th>50%</th>\n",
       "      <td>141.500000</td>\n",
       "      <td>143.400000</td>\n",
       "      <td>139.600000</td>\n",
       "      <td>141.100000</td>\n",
       "      <td>141.25000</td>\n",
       "      <td>1.783456e+06</td>\n",
       "      <td>2512.030000</td>\n",
       "    </tr>\n",
       "    <tr>\n",
       "      <th>75%</th>\n",
       "      <td>157.175000</td>\n",
       "      <td>159.400000</td>\n",
       "      <td>155.150000</td>\n",
       "      <td>156.925000</td>\n",
       "      <td>156.90000</td>\n",
       "      <td>2.813594e+06</td>\n",
       "      <td>4539.015000</td>\n",
       "    </tr>\n",
       "    <tr>\n",
       "      <th>max</th>\n",
       "      <td>327.700000</td>\n",
       "      <td>328.750000</td>\n",
       "      <td>321.650000</td>\n",
       "      <td>325.950000</td>\n",
       "      <td>325.75000</td>\n",
       "      <td>2.919102e+07</td>\n",
       "      <td>55755.080000</td>\n",
       "    </tr>\n",
       "  </tbody>\n",
       "</table>\n",
       "</div>"
      ],
      "text/plain": [
       "              Open         High          Low         Last       Close  \\\n",
       "count  2035.000000  2035.000000  2035.000000  2035.000000  2035.00000   \n",
       "mean    149.713735   151.992826   147.293931   149.474251   149.45027   \n",
       "std      48.664509    49.413109    47.931958    48.732570    48.71204   \n",
       "min      81.100000    82.800000    80.000000    81.000000    80.95000   \n",
       "25%     120.025000   122.100000   118.300000   120.075000   120.05000   \n",
       "50%     141.500000   143.400000   139.600000   141.100000   141.25000   \n",
       "75%     157.175000   159.400000   155.150000   156.925000   156.90000   \n",
       "max     327.700000   328.750000   321.650000   325.950000   325.75000   \n",
       "\n",
       "       Total Trade Quantity  Turnover (Lacs)  \n",
       "count          2.035000e+03      2035.000000  \n",
       "mean           2.335681e+06      3899.980565  \n",
       "std            2.091778e+06      4570.767877  \n",
       "min            3.961000e+04        37.040000  \n",
       "25%            1.146444e+06      1427.460000  \n",
       "50%            1.783456e+06      2512.030000  \n",
       "75%            2.813594e+06      4539.015000  \n",
       "max            2.919102e+07     55755.080000  "
      ]
     },
     "execution_count": 6,
     "metadata": {},
     "output_type": "execute_result"
    }
   ],
   "source": [
    "dataset.describe()"
   ]
  },
  {
   "cell_type": "code",
   "execution_count": 7,
   "id": "ef304ddd",
   "metadata": {
    "scrolled": false
   },
   "outputs": [
    {
     "data": {
      "text/plain": [
       "Date                    0\n",
       "Open                    0\n",
       "High                    0\n",
       "Low                     0\n",
       "Last                    0\n",
       "Close                   0\n",
       "Total Trade Quantity    0\n",
       "Turnover (Lacs)         0\n",
       "dtype: int64"
      ]
     },
     "execution_count": 7,
     "metadata": {},
     "output_type": "execute_result"
    }
   ],
   "source": [
    "dataset.isnull().sum()"
   ]
  },
  {
   "cell_type": "code",
   "execution_count": 8,
   "id": "7f360583",
   "metadata": {},
   "outputs": [
    {
     "data": {
      "text/plain": [
       "(2035, 8)"
      ]
     },
     "execution_count": 8,
     "metadata": {},
     "output_type": "execute_result"
    }
   ],
   "source": [
    "dataset.shape"
   ]
  },
  {
   "cell_type": "code",
   "execution_count": 9,
   "id": "80d28808",
   "metadata": {},
   "outputs": [
    {
     "data": {
      "text/plain": [
       "Index(['Date', 'Open', 'High', 'Low', 'Last', 'Close', 'Total Trade Quantity',\n",
       "       'Turnover (Lacs)'],\n",
       "      dtype='object')"
      ]
     },
     "execution_count": 9,
     "metadata": {},
     "output_type": "execute_result"
    }
   ],
   "source": [
    "dataset.columns"
   ]
  },
  {
   "cell_type": "code",
   "execution_count": 10,
   "id": "3758259c",
   "metadata": {},
   "outputs": [
    {
     "data": {
      "text/plain": [
       "False    2035\n",
       "Name: count, dtype: int64"
      ]
     },
     "execution_count": 10,
     "metadata": {},
     "output_type": "execute_result"
    }
   ],
   "source": [
    "duplicates = dataset.duplicated()\n",
    "duplicates.value_counts()"
   ]
  },
  {
   "cell_type": "code",
   "execution_count": 11,
   "id": "6680602e",
   "metadata": {},
   "outputs": [
    {
     "data": {
      "text/html": [
       "<div>\n",
       "<style scoped>\n",
       "    .dataframe tbody tr th:only-of-type {\n",
       "        vertical-align: middle;\n",
       "    }\n",
       "\n",
       "    .dataframe tbody tr th {\n",
       "        vertical-align: top;\n",
       "    }\n",
       "\n",
       "    .dataframe thead th {\n",
       "        text-align: right;\n",
       "    }\n",
       "</style>\n",
       "<table border=\"1\" class=\"dataframe\">\n",
       "  <thead>\n",
       "    <tr style=\"text-align: right;\">\n",
       "      <th></th>\n",
       "      <th>Date</th>\n",
       "      <th>Open</th>\n",
       "      <th>High</th>\n",
       "      <th>Low</th>\n",
       "      <th>Last</th>\n",
       "      <th>Close</th>\n",
       "      <th>Total Trade Quantity</th>\n",
       "      <th>Turnover (Lacs)</th>\n",
       "    </tr>\n",
       "  </thead>\n",
       "  <tbody>\n",
       "    <tr>\n",
       "      <th>2034</th>\n",
       "      <td>2010-07-21</td>\n",
       "      <td>122.1</td>\n",
       "      <td>123.00</td>\n",
       "      <td>121.05</td>\n",
       "      <td>121.10</td>\n",
       "      <td>121.55</td>\n",
       "      <td>658666</td>\n",
       "      <td>803.56</td>\n",
       "    </tr>\n",
       "    <tr>\n",
       "      <th>2033</th>\n",
       "      <td>2010-07-22</td>\n",
       "      <td>120.3</td>\n",
       "      <td>122.00</td>\n",
       "      <td>120.25</td>\n",
       "      <td>120.75</td>\n",
       "      <td>120.90</td>\n",
       "      <td>293312</td>\n",
       "      <td>355.17</td>\n",
       "    </tr>\n",
       "    <tr>\n",
       "      <th>2032</th>\n",
       "      <td>2010-07-23</td>\n",
       "      <td>121.8</td>\n",
       "      <td>121.95</td>\n",
       "      <td>120.25</td>\n",
       "      <td>120.35</td>\n",
       "      <td>120.65</td>\n",
       "      <td>281312</td>\n",
       "      <td>340.31</td>\n",
       "    </tr>\n",
       "    <tr>\n",
       "      <th>2031</th>\n",
       "      <td>2010-07-26</td>\n",
       "      <td>120.1</td>\n",
       "      <td>121.00</td>\n",
       "      <td>117.10</td>\n",
       "      <td>117.10</td>\n",
       "      <td>117.60</td>\n",
       "      <td>658440</td>\n",
       "      <td>780.01</td>\n",
       "    </tr>\n",
       "    <tr>\n",
       "      <th>2030</th>\n",
       "      <td>2010-07-27</td>\n",
       "      <td>117.6</td>\n",
       "      <td>119.50</td>\n",
       "      <td>112.00</td>\n",
       "      <td>118.80</td>\n",
       "      <td>118.65</td>\n",
       "      <td>586100</td>\n",
       "      <td>694.98</td>\n",
       "    </tr>\n",
       "  </tbody>\n",
       "</table>\n",
       "</div>"
      ],
      "text/plain": [
       "            Date   Open    High     Low    Last   Close  Total Trade Quantity  \\\n",
       "2034  2010-07-21  122.1  123.00  121.05  121.10  121.55                658666   \n",
       "2033  2010-07-22  120.3  122.00  120.25  120.75  120.90                293312   \n",
       "2032  2010-07-23  121.8  121.95  120.25  120.35  120.65                281312   \n",
       "2031  2010-07-26  120.1  121.00  117.10  117.10  117.60                658440   \n",
       "2030  2010-07-27  117.6  119.50  112.00  118.80  118.65                586100   \n",
       "\n",
       "      Turnover (Lacs)  \n",
       "2034           803.56  \n",
       "2033           355.17  \n",
       "2032           340.31  \n",
       "2031           780.01  \n",
       "2030           694.98  "
      ]
     },
     "execution_count": 11,
     "metadata": {},
     "output_type": "execute_result"
    }
   ],
   "source": [
    "srt = dataset.sort_values(by='Date')\n",
    "srt.head()"
   ]
  },
  {
   "cell_type": "code",
   "execution_count": 12,
   "id": "adfea7b3",
   "metadata": {},
   "outputs": [
    {
     "data": {
      "text/html": [
       "<div>\n",
       "<style scoped>\n",
       "    .dataframe tbody tr th:only-of-type {\n",
       "        vertical-align: middle;\n",
       "    }\n",
       "\n",
       "    .dataframe tbody tr th {\n",
       "        vertical-align: top;\n",
       "    }\n",
       "\n",
       "    .dataframe thead th {\n",
       "        text-align: right;\n",
       "    }\n",
       "</style>\n",
       "<table border=\"1\" class=\"dataframe\">\n",
       "  <thead>\n",
       "    <tr style=\"text-align: right;\">\n",
       "      <th></th>\n",
       "      <th>index</th>\n",
       "      <th>Date</th>\n",
       "      <th>Open</th>\n",
       "      <th>High</th>\n",
       "      <th>Low</th>\n",
       "      <th>Last</th>\n",
       "      <th>Close</th>\n",
       "      <th>Total Trade Quantity</th>\n",
       "      <th>Turnover (Lacs)</th>\n",
       "    </tr>\n",
       "  </thead>\n",
       "  <tbody>\n",
       "    <tr>\n",
       "      <th>0</th>\n",
       "      <td>2034</td>\n",
       "      <td>2010-07-21</td>\n",
       "      <td>122.1</td>\n",
       "      <td>123.00</td>\n",
       "      <td>121.05</td>\n",
       "      <td>121.10</td>\n",
       "      <td>121.55</td>\n",
       "      <td>658666</td>\n",
       "      <td>803.56</td>\n",
       "    </tr>\n",
       "    <tr>\n",
       "      <th>1</th>\n",
       "      <td>2033</td>\n",
       "      <td>2010-07-22</td>\n",
       "      <td>120.3</td>\n",
       "      <td>122.00</td>\n",
       "      <td>120.25</td>\n",
       "      <td>120.75</td>\n",
       "      <td>120.90</td>\n",
       "      <td>293312</td>\n",
       "      <td>355.17</td>\n",
       "    </tr>\n",
       "    <tr>\n",
       "      <th>2</th>\n",
       "      <td>2032</td>\n",
       "      <td>2010-07-23</td>\n",
       "      <td>121.8</td>\n",
       "      <td>121.95</td>\n",
       "      <td>120.25</td>\n",
       "      <td>120.35</td>\n",
       "      <td>120.65</td>\n",
       "      <td>281312</td>\n",
       "      <td>340.31</td>\n",
       "    </tr>\n",
       "    <tr>\n",
       "      <th>3</th>\n",
       "      <td>2031</td>\n",
       "      <td>2010-07-26</td>\n",
       "      <td>120.1</td>\n",
       "      <td>121.00</td>\n",
       "      <td>117.10</td>\n",
       "      <td>117.10</td>\n",
       "      <td>117.60</td>\n",
       "      <td>658440</td>\n",
       "      <td>780.01</td>\n",
       "    </tr>\n",
       "    <tr>\n",
       "      <th>4</th>\n",
       "      <td>2030</td>\n",
       "      <td>2010-07-27</td>\n",
       "      <td>117.6</td>\n",
       "      <td>119.50</td>\n",
       "      <td>112.00</td>\n",
       "      <td>118.80</td>\n",
       "      <td>118.65</td>\n",
       "      <td>586100</td>\n",
       "      <td>694.98</td>\n",
       "    </tr>\n",
       "  </tbody>\n",
       "</table>\n",
       "</div>"
      ],
      "text/plain": [
       "   index        Date   Open    High     Low    Last   Close  \\\n",
       "0   2034  2010-07-21  122.1  123.00  121.05  121.10  121.55   \n",
       "1   2033  2010-07-22  120.3  122.00  120.25  120.75  120.90   \n",
       "2   2032  2010-07-23  121.8  121.95  120.25  120.35  120.65   \n",
       "3   2031  2010-07-26  120.1  121.00  117.10  117.10  117.60   \n",
       "4   2030  2010-07-27  117.6  119.50  112.00  118.80  118.65   \n",
       "\n",
       "   Total Trade Quantity  Turnover (Lacs)  \n",
       "0                658666           803.56  \n",
       "1                293312           355.17  \n",
       "2                281312           340.31  \n",
       "3                658440           780.01  \n",
       "4                586100           694.98  "
      ]
     },
     "execution_count": 12,
     "metadata": {},
     "output_type": "execute_result"
    }
   ],
   "source": [
    "srt.reset_index(inplace=True)\n",
    "srt.head()"
   ]
  },
  {
   "cell_type": "code",
   "execution_count": 13,
   "id": "ea57574a",
   "metadata": {},
   "outputs": [
    {
     "data": {
      "text/html": [
       "<div>\n",
       "<style scoped>\n",
       "    .dataframe tbody tr th:only-of-type {\n",
       "        vertical-align: middle;\n",
       "    }\n",
       "\n",
       "    .dataframe tbody tr th {\n",
       "        vertical-align: top;\n",
       "    }\n",
       "\n",
       "    .dataframe thead th {\n",
       "        text-align: right;\n",
       "    }\n",
       "</style>\n",
       "<table border=\"1\" class=\"dataframe\">\n",
       "  <thead>\n",
       "    <tr style=\"text-align: right;\">\n",
       "      <th></th>\n",
       "      <th>index</th>\n",
       "      <th>Date</th>\n",
       "      <th>Open</th>\n",
       "      <th>High</th>\n",
       "      <th>Low</th>\n",
       "      <th>Last</th>\n",
       "      <th>Close</th>\n",
       "      <th>Total Trade Quantity</th>\n",
       "      <th>Turnover (Lacs)</th>\n",
       "    </tr>\n",
       "  </thead>\n",
       "  <tbody>\n",
       "    <tr>\n",
       "      <th>0</th>\n",
       "      <td>2034</td>\n",
       "      <td>2010-07-21</td>\n",
       "      <td>122.1</td>\n",
       "      <td>123.00</td>\n",
       "      <td>121.05</td>\n",
       "      <td>121.10</td>\n",
       "      <td>121.55</td>\n",
       "      <td>658666</td>\n",
       "      <td>803.56</td>\n",
       "    </tr>\n",
       "    <tr>\n",
       "      <th>1</th>\n",
       "      <td>2033</td>\n",
       "      <td>2010-07-22</td>\n",
       "      <td>120.3</td>\n",
       "      <td>122.00</td>\n",
       "      <td>120.25</td>\n",
       "      <td>120.75</td>\n",
       "      <td>120.90</td>\n",
       "      <td>293312</td>\n",
       "      <td>355.17</td>\n",
       "    </tr>\n",
       "    <tr>\n",
       "      <th>2</th>\n",
       "      <td>2032</td>\n",
       "      <td>2010-07-23</td>\n",
       "      <td>121.8</td>\n",
       "      <td>121.95</td>\n",
       "      <td>120.25</td>\n",
       "      <td>120.35</td>\n",
       "      <td>120.65</td>\n",
       "      <td>281312</td>\n",
       "      <td>340.31</td>\n",
       "    </tr>\n",
       "    <tr>\n",
       "      <th>3</th>\n",
       "      <td>2031</td>\n",
       "      <td>2010-07-26</td>\n",
       "      <td>120.1</td>\n",
       "      <td>121.00</td>\n",
       "      <td>117.10</td>\n",
       "      <td>117.10</td>\n",
       "      <td>117.60</td>\n",
       "      <td>658440</td>\n",
       "      <td>780.01</td>\n",
       "    </tr>\n",
       "    <tr>\n",
       "      <th>4</th>\n",
       "      <td>2030</td>\n",
       "      <td>2010-07-27</td>\n",
       "      <td>117.6</td>\n",
       "      <td>119.50</td>\n",
       "      <td>112.00</td>\n",
       "      <td>118.80</td>\n",
       "      <td>118.65</td>\n",
       "      <td>586100</td>\n",
       "      <td>694.98</td>\n",
       "    </tr>\n",
       "  </tbody>\n",
       "</table>\n",
       "</div>"
      ],
      "text/plain": [
       "   index        Date   Open    High     Low    Last   Close  \\\n",
       "0   2034  2010-07-21  122.1  123.00  121.05  121.10  121.55   \n",
       "1   2033  2010-07-22  120.3  122.00  120.25  120.75  120.90   \n",
       "2   2032  2010-07-23  121.8  121.95  120.25  120.35  120.65   \n",
       "3   2031  2010-07-26  120.1  121.00  117.10  117.10  117.60   \n",
       "4   2030  2010-07-27  117.6  119.50  112.00  118.80  118.65   \n",
       "\n",
       "   Total Trade Quantity  Turnover (Lacs)  \n",
       "0                658666           803.56  \n",
       "1                293312           355.17  \n",
       "2                281312           340.31  \n",
       "3                658440           780.01  \n",
       "4                586100           694.98  "
      ]
     },
     "execution_count": 13,
     "metadata": {},
     "output_type": "execute_result"
    }
   ],
   "source": [
    "srt.head()"
   ]
  },
  {
   "cell_type": "markdown",
   "id": "f8d1a404",
   "metadata": {},
   "source": [
    "# Data Visualization"
   ]
  },
  {
   "cell_type": "markdown",
   "id": "1314569a",
   "metadata": {},
   "source": [
    "plotting the graph for the date and close"
   ]
  },
  {
   "cell_type": "code",
   "execution_count": 77,
   "id": "d2bccc39",
   "metadata": {},
   "outputs": [
    {
     "data": {
      "text/plain": [
       "<Axes: >"
      ]
     },
     "execution_count": 77,
     "metadata": {},
     "output_type": "execute_result"
    },
    {
     "data": {
      "image/png": "[encoded data removed]",
      "text/plain": [
       "<Figure size 640x480 with 2 Axes>"
      ]
     },
     "metadata": {},
     "output_type": "display_data"
    }
   ],
   "source": [
    "plt.Figure(figsize = (6,6))\n",
    "sns.heatmap(close_srt,annot=True)"
   ]
  },
  {
   "cell_type": "code",
   "execution_count": 14,
   "id": "5d7bfdd2",
   "metadata": {},
   "outputs": [
    {
     "data": {
      "text/plain": [
       "[<matplotlib.lines.Line2D at 0x19fb1b063d0>]"
      ]
     },
     "execution_count": 14,
     "metadata": {},
     "output_type": "execute_result"
    },
    {
     "data": {
      "image/png": "[encoded data removed]",
      "text/plain": [
       "<Figure size 1000x700 with 1 Axes>"
      ]
     },
     "metadata": {},
     "output_type": "display_data"
    }
   ],
   "source": [
    "plt.figure(figsize=(10,7))\n",
    "plt.plot(srt['Date'],srt['Close'])"
   ]
  },
  {
   "cell_type": "code",
   "execution_count": 15,
   "id": "2a3f4190",
   "metadata": {},
   "outputs": [
    {
     "data": {
      "text/plain": [
       "0       121.55\n",
       "1       120.90\n",
       "2       120.65\n",
       "3       117.60\n",
       "4       118.65\n",
       "         ...  \n",
       "2030    233.30\n",
       "2031    236.10\n",
       "2032    234.25\n",
       "2033    233.25\n",
       "2034    233.75\n",
       "Name: Close, Length: 2035, dtype: float64"
      ]
     },
     "execution_count": 15,
     "metadata": {},
     "output_type": "execute_result"
    }
   ],
   "source": [
    "close_srt  = srt['Close']\n",
    "close_srt"
   ]
  },
  {
   "cell_type": "code",
   "execution_count": 16,
   "id": "9adc43d5",
   "metadata": {},
   "outputs": [
    {
     "data": {
      "text/plain": [
       "False    2035\n",
       "Name: count, dtype: int64"
      ]
     },
     "execution_count": 16,
     "metadata": {},
     "output_type": "execute_result"
    }
   ],
   "source": [
    "duplicates=dataset.duplicated()\n",
    "duplicates.value_counts()"
   ]
  },
  {
   "cell_type": "code",
   "execution_count": 17,
   "id": "e06781fe",
   "metadata": {},
   "outputs": [
    {
     "data": {
      "text/plain": [
       "[<matplotlib.lines.Line2D at 0x19fb5b46a60>]"
      ]
     },
     "execution_count": 17,
     "metadata": {},
     "output_type": "execute_result"
    },
    {
     "data": {
      "image/png": "[encoded data removed]",
      "text/plain": [
       "<Figure size 640x480 with 1 Axes>"
      ]
     },
     "metadata": {},
     "output_type": "display_data"
    }
   ],
   "source": [
    "dataset_high = dataset.reset_index()['High']\n",
    "plt.plot(dataset_high)"
   ]
  },
  {
   "cell_type": "markdown",
   "id": "8121185e",
   "metadata": {},
   "source": [
    "# Feature Scalling(MinMax Scaler)"
   ]
  },
  {
   "cell_type": "code",
   "execution_count": 18,
   "id": "8b922d7f",
   "metadata": {},
   "outputs": [
    {
     "data": {
      "text/plain": [
       "array([[0.16584967],\n",
       "       [0.16319444],\n",
       "       [0.1621732 ],\n",
       "       ...,\n",
       "       [0.62622549],\n",
       "       [0.62214052],\n",
       "       [0.62418301]])"
      ]
     },
     "execution_count": 18,
     "metadata": {},
     "output_type": "execute_result"
    }
   ],
   "source": [
    "Scaler = MinMaxScaler(feature_range=(0,1))\n",
    "close_srt = Scaler.fit_transform(np.array(close_srt).reshape(-1,1))\n",
    "close_srt"
   ]
  },
  {
   "cell_type": "markdown",
   "id": "d9ded273",
   "metadata": {},
   "source": [
    "# Splitting the Dataset"
   ]
  },
  {
   "cell_type": "code",
   "execution_count": 19,
   "id": "514b051d",
   "metadata": {},
   "outputs": [],
   "source": [
    "train_size = int(len(close_srt)*0.7)\n",
    "test_size = len(close_srt) - train_size\n",
    "train_data,test_data = close_srt[0:train_size,:],close_srt[train_size:len(close_srt),:1]"
   ]
  },
  {
   "cell_type": "code",
   "execution_count": 20,
   "id": "d8924dea",
   "metadata": {},
   "outputs": [
    {
     "data": {
      "text/plain": [
       "(1424, 1)"
      ]
     },
     "execution_count": 20,
     "metadata": {},
     "output_type": "execute_result"
    }
   ],
   "source": [
    "train_data.shape"
   ]
  },
  {
   "cell_type": "code",
   "execution_count": 21,
   "id": "b826c48b",
   "metadata": {},
   "outputs": [
    {
     "data": {
      "text/plain": [
       "(611, 1)"
      ]
     },
     "execution_count": 21,
     "metadata": {},
     "output_type": "execute_result"
    }
   ],
   "source": [
    "test_data.shape"
   ]
  },
  {
   "cell_type": "markdown",
   "id": "25fe9807",
   "metadata": {},
   "source": [
    "# convert an array of values into dataset matrix"
   ]
  },
  {
   "cell_type": "code",
   "execution_count": 22,
   "id": "7bdd2c9c",
   "metadata": {},
   "outputs": [],
   "source": [
    "def create_dataset(dataset, time_step=1):\n",
    "    dataX,dataY = [],[]\n",
    "    for i in range(len(dataset)-time_step-1):\n",
    "        a = dataset[i:(i+time_step), 0]\n",
    "        dataX.append(a)\n",
    "        dataY.append(dataset[i + time_step, 0])\n",
    "        return np.array(dataX), np.array(dataY)"
   ]
  },
  {
   "cell_type": "markdown",
   "id": "9972ca5d",
   "metadata": {},
   "source": [
    "# Reshaping dataset"
   ]
  },
  {
   "cell_type": "code",
   "execution_count": 27,
   "id": "04872470",
   "metadata": {},
   "outputs": [],
   "source": [
    "time_step = 100\n",
    "X_train,Y_train = create_dataset(train_data, time_step)\n",
    "X_test,Y_test = create_dataset(test_data, time_step)"
   ]
  },
  {
   "cell_type": "code",
   "execution_count": 28,
   "id": "2eb3a4a1",
   "metadata": {},
   "outputs": [
    {
     "name": "stdout",
     "output_type": "stream",
     "text": [
      "(1, 100)\n",
      "(1,)\n"
     ]
    },
    {
     "data": {
      "text/plain": [
       "(None, None)"
      ]
     },
     "execution_count": 28,
     "metadata": {},
     "output_type": "execute_result"
    }
   ],
   "source": [
    "print(X_train.shape), print(Y_train.shape)"
   ]
  },
  {
   "cell_type": "code",
   "execution_count": 29,
   "id": "cc246eeb",
   "metadata": {},
   "outputs": [
    {
     "name": "stdout",
     "output_type": "stream",
     "text": [
      "(1, 100)\n",
      "(1,)\n"
     ]
    },
    {
     "data": {
      "text/plain": [
       "(None, None)"
      ]
     },
     "execution_count": 29,
     "metadata": {},
     "output_type": "execute_result"
    }
   ],
   "source": [
    "print(X_test.shape), print(Y_test.shape)"
   ]
  },
  {
   "cell_type": "code",
   "execution_count": 30,
   "id": "73c6c581",
   "metadata": {},
   "outputs": [],
   "source": [
    "X_train = X_train.reshape(X_train.shape[0],X_train.shape[1] , 1)\n",
    "X_test = X_test.reshape(X_test.shape[0],X_test.shape[1] , 1)"
   ]
  },
  {
   "cell_type": "code",
   "execution_count": 31,
   "id": "75254150",
   "metadata": {},
   "outputs": [
    {
     "data": {
      "text/plain": [
       "array([[[0.16584967],\n",
       "        [0.16319444],\n",
       "        [0.1621732 ],\n",
       "        [0.14971405],\n",
       "        [0.15400327],\n",
       "        [0.15236928],\n",
       "        [0.14562908],\n",
       "        [0.14338235],\n",
       "        [0.14848856],\n",
       "        [0.15257353],\n",
       "        [0.14522059],\n",
       "        [0.13521242],\n",
       "        [0.12724673],\n",
       "        [0.13031046],\n",
       "        [0.12806373],\n",
       "        [0.13459967],\n",
       "        [0.12908497],\n",
       "        [0.13562092],\n",
       "        [0.12377451],\n",
       "        [0.1190768 ],\n",
       "        [0.11397059],\n",
       "        [0.13112745],\n",
       "        [0.12479575],\n",
       "        [0.14603758],\n",
       "        [0.14501634],\n",
       "        [0.14726307],\n",
       "        [0.15196078],\n",
       "        [0.1503268 ],\n",
       "        [0.14971405],\n",
       "        [0.16156046],\n",
       "        [0.17177288],\n",
       "        [0.1693219 ],\n",
       "        [0.16830065],\n",
       "        [0.17238562],\n",
       "        [0.19097222],\n",
       "        [0.18913399],\n",
       "        [0.19138072],\n",
       "        [0.18382353],\n",
       "        [0.17544935],\n",
       "        [0.17279412],\n",
       "        [0.16830065],\n",
       "        [0.17034314],\n",
       "        [0.17810458],\n",
       "        [0.16973039],\n",
       "        [0.16278595],\n",
       "        [0.17401961],\n",
       "        [0.18035131],\n",
       "        [0.17422386],\n",
       "        [0.17116013],\n",
       "        [0.16564542],\n",
       "        [0.16033497],\n",
       "        [0.17381536],\n",
       "        [0.17851307],\n",
       "        [0.18811275],\n",
       "        [0.19750817],\n",
       "        [0.21425654],\n",
       "        [0.21098856],\n",
       "        [0.21772876],\n",
       "        [0.20445261],\n",
       "        [0.21568627],\n",
       "        [0.2128268 ],\n",
       "        [0.1997549 ],\n",
       "        [0.19873366],\n",
       "        [0.19934641],\n",
       "        [0.19771242],\n",
       "        [0.20200163],\n",
       "        [0.19444444],\n",
       "        [0.19403595],\n",
       "        [0.18954248],\n",
       "        [0.18913399],\n",
       "        [0.19607843],\n",
       "        [0.17851307],\n",
       "        [0.17810458],\n",
       "        [0.18055556],\n",
       "        [0.17810458],\n",
       "        [0.17708333],\n",
       "        [0.18239379],\n",
       "        [0.18055556],\n",
       "        [0.18974673],\n",
       "        [0.20812908],\n",
       "        [0.19260621],\n",
       "        [0.17933007],\n",
       "        [0.17892157],\n",
       "        [0.16441993],\n",
       "        [0.15788399],\n",
       "        [0.15992647],\n",
       "        [0.15910948],\n",
       "        [0.14808007],\n",
       "        [0.14644608],\n",
       "        [0.11846405],\n",
       "        [0.12867647],\n",
       "        [0.13071895],\n",
       "        [0.13071895],\n",
       "        [0.1380719 ],\n",
       "        [0.14011438],\n",
       "        [0.13541667],\n",
       "        [0.13888889],\n",
       "        [0.14011438],\n",
       "        [0.13848039],\n",
       "        [0.12479575]]])"
      ]
     },
     "execution_count": 31,
     "metadata": {},
     "output_type": "execute_result"
    }
   ],
   "source": [
    "X_train"
   ]
  },
  {
   "cell_type": "code",
   "execution_count": 32,
   "id": "bd99d0f5",
   "metadata": {},
   "outputs": [
    {
     "data": {
      "text/plain": [
       "array([[[0.1621732 ],\n",
       "        [0.15951797],\n",
       "        [0.16707516],\n",
       "        [0.15992647],\n",
       "        [0.16053922],\n",
       "        [0.16441993],\n",
       "        [0.16687092],\n",
       "        [0.1693219 ],\n",
       "        [0.16074346],\n",
       "        [0.15972222],\n",
       "        [0.16401144],\n",
       "        [0.15727124],\n",
       "        [0.14705882],\n",
       "        [0.14460784],\n",
       "        [0.15175654],\n",
       "        [0.15441176],\n",
       "        [0.15216503],\n",
       "        [0.14848856],\n",
       "        [0.15522876],\n",
       "        [0.15767974],\n",
       "        [0.1621732 ],\n",
       "        [0.16094771],\n",
       "        [0.16339869],\n",
       "        [0.15931373],\n",
       "        [0.15972222],\n",
       "        [0.16115196],\n",
       "        [0.16666667],\n",
       "        [0.15747549],\n",
       "        [0.15379902],\n",
       "        [0.14848856],\n",
       "        [0.15114379],\n",
       "        [0.1503268 ],\n",
       "        [0.15155229],\n",
       "        [0.15645425],\n",
       "        [0.16033497],\n",
       "        [0.1566585 ],\n",
       "        [0.15686275],\n",
       "        [0.17749183],\n",
       "        [0.17973856],\n",
       "        [0.1744281 ],\n",
       "        [0.19281046],\n",
       "        [0.18607026],\n",
       "        [0.18811275],\n",
       "        [0.18443627],\n",
       "        [0.18280229],\n",
       "        [0.18464052],\n",
       "        [0.18178105],\n",
       "        [0.18913399],\n",
       "        [0.1870915 ],\n",
       "        [0.17687908],\n",
       "        [0.18382353],\n",
       "        [0.19158497],\n",
       "        [0.19914216],\n",
       "        [0.20526961],\n",
       "        [0.22038399],\n",
       "        [0.21711601],\n",
       "        [0.21629902],\n",
       "        [0.21854575],\n",
       "        [0.21098856],\n",
       "        [0.21303105],\n",
       "        [0.21221405],\n",
       "        [0.20915033],\n",
       "        [0.21098856],\n",
       "        [0.21098856],\n",
       "        [0.2001634 ],\n",
       "        [0.2005719 ],\n",
       "        [0.21609477],\n",
       "        [0.20772059],\n",
       "        [0.2064951 ],\n",
       "        [0.21446078],\n",
       "        [0.20506536],\n",
       "        [0.23080065],\n",
       "        [0.24183007],\n",
       "        [0.25      ],\n",
       "        [0.24530229],\n",
       "        [0.23468137],\n",
       "        [0.22385621],\n",
       "        [0.23427288],\n",
       "        [0.23754085],\n",
       "        [0.25306373],\n",
       "        [0.25449346],\n",
       "        [0.23202614],\n",
       "        [0.23018791],\n",
       "        [0.22875817],\n",
       "        [0.23325163],\n",
       "        [0.23161765],\n",
       "        [0.23651961],\n",
       "        [0.24632353],\n",
       "        [0.23468137],\n",
       "        [0.23958333],\n",
       "        [0.24223856],\n",
       "        [0.24305556],\n",
       "        [0.24080882],\n",
       "        [0.23713235],\n",
       "        [0.24203431],\n",
       "        [0.24223856],\n",
       "        [0.24571078],\n",
       "        [0.24775327],\n",
       "        [0.24836601],\n",
       "        [0.25020425]]])"
      ]
     },
     "execution_count": 32,
     "metadata": {},
     "output_type": "execute_result"
    }
   ],
   "source": [
    "X_test"
   ]
  },
  {
   "cell_type": "markdown",
   "id": "f936f062",
   "metadata": {},
   "source": [
    "# Creatin the Stacked LSTM Model"
   ]
  },
  {
   "cell_type": "code",
   "execution_count": 33,
   "id": "fd9ee28e",
   "metadata": {},
   "outputs": [],
   "source": [
    "import tensorflow as tf\n",
    "from tensorflow import keras"
   ]
  },
  {
   "cell_type": "code",
   "execution_count": 34,
   "id": "2b382702",
   "metadata": {},
   "outputs": [],
   "source": [
    "from keras.models import Sequential\n",
    "from tensorflow.keras.layers import LSTM\n",
    "from tensorflow.keras.layers import Dense"
   ]
  },
  {
   "cell_type": "code",
   "execution_count": 35,
   "id": "2e1ff62d",
   "metadata": {},
   "outputs": [],
   "source": [
    "model = Sequential()\n",
    "model.add(LSTM(50,return_sequences=True,input_shape=(100,1)))\n",
    "model.add(LSTM(50,return_sequences=True))\n",
    "model.add(LSTM(50))\n",
    "model.add(Dense(1))\n",
    "model.compile(loss='mean_squared_error', optimizer='adam')"
   ]
  },
  {
   "cell_type": "code",
   "execution_count": 36,
   "id": "2c298129",
   "metadata": {
    "scrolled": true
   },
   "outputs": [
    {
     "name": "stdout",
     "output_type": "stream",
     "text": [
      "Model: \"sequential\"\n",
      "_________________________________________________________________\n",
      " Layer (type)                Output Shape              Param #   \n",
      "=================================================================\n",
      " lstm (LSTM)                 (None, 100, 50)           10400     \n",
      "                                                                 \n",
      " lstm_1 (LSTM)               (None, 100, 50)           20200     \n",
      "                                                                 \n",
      " lstm_2 (LSTM)               (None, 50)                20200     \n",
      "                                                                 \n",
      " dense (Dense)               (None, 1)                 51        \n",
      "                                                                 \n",
      "=================================================================\n",
      "Total params: 50,851\n",
      "Trainable params: 50,851\n",
      "Non-trainable params: 0\n",
      "_________________________________________________________________\n"
     ]
    }
   ],
   "source": [
    "model.summary()"
   ]
  },
  {
   "cell_type": "markdown",
   "id": "aa04ceef",
   "metadata": {},
   "source": [
    "# Prediction and checking Performance"
   ]
  },
  {
   "cell_type": "code",
   "execution_count": 43,
   "id": "37b586e6",
   "metadata": {},
   "outputs": [
    {
     "name": "stdout",
     "output_type": "stream",
     "text": [
      "Epoch 1/80\n",
      "1/1 [==============================] - 0s 302ms/step - loss: 5.1088e-07 - val_loss: 0.0111\n",
      "Epoch 2/80\n",
      "1/1 [==============================] - 0s 237ms/step - loss: 2.1458e-07 - val_loss: 0.0111\n",
      "Epoch 3/80\n",
      "1/1 [==============================] - 0s 215ms/step - loss: 3.0721e-08 - val_loss: 0.0112\n",
      "Epoch 4/80\n",
      "1/1 [==============================] - 0s 218ms/step - loss: 1.1666e-08 - val_loss: 0.0113\n",
      "Epoch 5/80\n",
      "1/1 [==============================] - 0s 245ms/step - loss: 1.2246e-07 - val_loss: 0.0113\n",
      "Epoch 6/80\n",
      "1/1 [==============================] - 0s 256ms/step - loss: 2.7312e-07 - val_loss: 0.0113\n",
      "Epoch 7/80\n",
      "1/1 [==============================] - 0s 265ms/step - loss: 3.7155e-07 - val_loss: 0.0113\n",
      "Epoch 8/80\n",
      "1/1 [==============================] - 0s 267ms/step - loss: 3.6864e-07 - val_loss: 0.0113\n",
      "Epoch 9/80\n",
      "1/1 [==============================] - 0s 284ms/step - loss: 2.7421e-07 - val_loss: 0.0113\n",
      "Epoch 10/80\n",
      "1/1 [==============================] - 0s 266ms/step - loss: 1.4242e-07 - val_loss: 0.0112\n",
      "Epoch 11/80\n",
      "1/1 [==============================] - 0s 273ms/step - loss: 3.7476e-08 - val_loss: 0.0112\n",
      "Epoch 12/80\n",
      "1/1 [==============================] - 0s 275ms/step - loss: 2.9582e-13 - val_loss: 0.0111\n",
      "Epoch 13/80\n",
      "1/1 [==============================] - 0s 283ms/step - loss: 3.0424e-08 - val_loss: 0.0111\n",
      "Epoch 14/80\n",
      "1/1 [==============================] - 0s 275ms/step - loss: 9.5263e-08 - val_loss: 0.0111\n",
      "Epoch 15/80\n",
      "1/1 [==============================] - 0s 281ms/step - loss: 1.4975e-07 - val_loss: 0.0111\n",
      "Epoch 16/80\n",
      "1/1 [==============================] - 0s 271ms/step - loss: 1.6274e-07 - val_loss: 0.0111\n",
      "Epoch 17/80\n",
      "1/1 [==============================] - 0s 277ms/step - loss: 1.3041e-07 - val_loss: 0.0111\n",
      "Epoch 18/80\n",
      "1/1 [==============================] - 0s 266ms/step - loss: 7.3720e-08 - val_loss: 0.0111\n",
      "Epoch 19/80\n",
      "1/1 [==============================] - 0s 300ms/step - loss: 2.2995e-08 - val_loss: 0.0112\n",
      "Epoch 20/80\n",
      "1/1 [==============================] - 0s 284ms/step - loss: 4.6460e-10 - val_loss: 0.0112\n",
      "Epoch 21/80\n",
      "1/1 [==============================] - 0s 281ms/step - loss: 9.8327e-09 - val_loss: 0.0112\n",
      "Epoch 22/80\n",
      "1/1 [==============================] - 0s 265ms/step - loss: 3.7624e-08 - val_loss: 0.0112\n",
      "Epoch 23/80\n",
      "1/1 [==============================] - 0s 267ms/step - loss: 6.3291e-08 - val_loss: 0.0112\n",
      "Epoch 24/80\n",
      "1/1 [==============================] - 0s 270ms/step - loss: 7.1273e-08 - val_loss: 0.0112\n",
      "Epoch 25/80\n",
      "1/1 [==============================] - 0s 284ms/step - loss: 5.8446e-08 - val_loss: 0.0112\n",
      "Epoch 26/80\n",
      "1/1 [==============================] - 0s 266ms/step - loss: 3.3615e-08 - val_loss: 0.0112\n",
      "Epoch 27/80\n",
      "1/1 [==============================] - 0s 260ms/step - loss: 1.0670e-08 - val_loss: 0.0112\n",
      "Epoch 28/80\n",
      "1/1 [==============================] - 0s 256ms/step - loss: 2.3970e-10 - val_loss: 0.0112\n",
      "Epoch 29/80\n",
      "1/1 [==============================] - 0s 276ms/step - loss: 4.3970e-09 - val_loss: 0.0111\n",
      "Epoch 30/80\n",
      "1/1 [==============================] - 0s 265ms/step - loss: 1.6969e-08 - val_loss: 0.0111\n",
      "Epoch 31/80\n",
      "1/1 [==============================] - 0s 273ms/step - loss: 2.8368e-08 - val_loss: 0.0111\n",
      "Epoch 32/80\n",
      "1/1 [==============================] - 0s 298ms/step - loss: 3.1396e-08 - val_loss: 0.0111\n",
      "Epoch 33/80\n",
      "1/1 [==============================] - 0s 255ms/step - loss: 2.4994e-08 - val_loss: 0.0111\n",
      "Epoch 34/80\n",
      "1/1 [==============================] - 0s 258ms/step - loss: 1.3558e-08 - val_loss: 0.0112\n",
      "Epoch 35/80\n",
      "1/1 [==============================] - 0s 285ms/step - loss: 3.7008e-09 - val_loss: 0.0112\n",
      "Epoch 36/80\n",
      "1/1 [==============================] - 0s 270ms/step - loss: 1.3165e-12 - val_loss: 0.0112\n",
      "Epoch 37/80\n",
      "1/1 [==============================] - 0s 279ms/step - loss: 2.8070e-09 - val_loss: 0.0112\n",
      "Epoch 38/80\n",
      "1/1 [==============================] - 0s 265ms/step - loss: 8.7682e-09 - val_loss: 0.0112\n",
      "Epoch 39/80\n",
      "1/1 [==============================] - 0s 276ms/step - loss: 1.3385e-08 - val_loss: 0.0112\n",
      "Epoch 40/80\n",
      "1/1 [==============================] - 0s 266ms/step - loss: 1.3781e-08 - val_loss: 0.0112\n",
      "Epoch 41/80\n",
      "1/1 [==============================] - 0s 270ms/step - loss: 1.0069e-08 - val_loss: 0.0112\n",
      "Epoch 42/80\n",
      "1/1 [==============================] - 0s 244ms/step - loss: 4.7558e-09 - val_loss: 0.0112\n",
      "Epoch 43/80\n",
      "1/1 [==============================] - 0s 285ms/step - loss: 8.7579e-10 - val_loss: 0.0112\n",
      "Epoch 44/80\n",
      "1/1 [==============================] - 0s 265ms/step - loss: 1.1527e-10 - val_loss: 0.0112\n",
      "Epoch 45/80\n",
      "1/1 [==============================] - 0s 261ms/step - loss: 2.0662e-09 - val_loss: 0.0112\n",
      "Epoch 46/80\n",
      "1/1 [==============================] - 0s 267ms/step - loss: 4.8311e-09 - val_loss: 0.0111\n",
      "Epoch 47/80\n",
      "1/1 [==============================] - 0s 284ms/step - loss: 6.3912e-09 - val_loss: 0.0111\n",
      "Epoch 48/80\n",
      "1/1 [==============================] - 0s 263ms/step - loss: 5.8196e-09 - val_loss: 0.0112\n",
      "Epoch 49/80\n",
      "1/1 [==============================] - 0s 269ms/step - loss: 3.6556e-09 - val_loss: 0.0112\n",
      "Epoch 50/80\n",
      "1/1 [==============================] - 0s 276ms/step - loss: 1.3106e-09 - val_loss: 0.0112\n",
      "Epoch 51/80\n",
      "1/1 [==============================] - 0s 270ms/step - loss: 6.9013e-11 - val_loss: 0.0112\n",
      "Epoch 52/80\n",
      "1/1 [==============================] - 0s 266ms/step - loss: 3.3457e-10 - val_loss: 0.0112\n",
      "Epoch 53/80\n",
      "1/1 [==============================] - 0s 260ms/step - loss: 1.5423e-09 - val_loss: 0.0112\n",
      "Epoch 54/80\n",
      "1/1 [==============================] - 0s 285ms/step - loss: 2.6690e-09 - val_loss: 0.0112\n",
      "Epoch 55/80\n",
      "1/1 [==============================] - 0s 271ms/step - loss: 2.9347e-09 - val_loss: 0.0112\n",
      "Epoch 56/80\n",
      "1/1 [==============================] - 0s 263ms/step - loss: 2.2355e-09 - val_loss: 0.0112\n",
      "Epoch 57/80\n",
      "1/1 [==============================] - 0s 217ms/step - loss: 1.0978e-09 - val_loss: 0.0112\n",
      "Epoch 58/80\n",
      "1/1 [==============================] - 0s 207ms/step - loss: 2.1434e-10 - val_loss: 0.0112\n",
      "Epoch 59/80\n",
      "1/1 [==============================] - 0s 227ms/step - loss: 2.0723e-11 - val_loss: 0.0112\n",
      "Epoch 60/80\n",
      "1/1 [==============================] - 0s 218ms/step - loss: 4.4584e-10 - val_loss: 0.0112\n",
      "Epoch 61/80\n",
      "1/1 [==============================] - 0s 219ms/step - loss: 1.0528e-09 - val_loss: 0.0112\n",
      "Epoch 62/80\n",
      "1/1 [==============================] - 0s 216ms/step - loss: 1.3734e-09 - val_loss: 0.0112\n",
      "Epoch 63/80\n",
      "1/1 [==============================] - 0s 237ms/step - loss: 1.2106e-09 - val_loss: 0.0112\n",
      "Epoch 64/80\n",
      "1/1 [==============================] - 0s 219ms/step - loss: 7.1424e-10 - val_loss: 0.0112\n",
      "Epoch 65/80\n",
      "1/1 [==============================] - 0s 234ms/step - loss: 2.1763e-10 - val_loss: 0.0112\n",
      "Epoch 66/80\n",
      "1/1 [==============================] - 0s 232ms/step - loss: 1.8186e-12 - val_loss: 0.0112\n",
      "Epoch 67/80\n",
      "1/1 [==============================] - 0s 267ms/step - loss: 1.2110e-10 - val_loss: 0.0112\n",
      "Epoch 68/80\n",
      "1/1 [==============================] - 0s 274ms/step - loss: 4.0768e-10 - val_loss: 0.0112\n",
      "Epoch 69/80\n",
      "1/1 [==============================] - 0s 267ms/step - loss: 6.2149e-10 - val_loss: 0.0112\n",
      "Epoch 70/80\n",
      "1/1 [==============================] - 0s 276ms/step - loss: 6.1371e-10 - val_loss: 0.0112\n",
      "Epoch 71/80\n",
      "1/1 [==============================] - 0s 252ms/step - loss: 4.0979e-10 - val_loss: 0.0112\n",
      "Epoch 72/80\n",
      "1/1 [==============================] - 0s 265ms/step - loss: 1.5537e-10 - val_loss: 0.0112\n",
      "Epoch 73/80\n",
      "1/1 [==============================] - 0s 268ms/step - loss: 1.0408e-11 - val_loss: 0.0112\n",
      "Epoch 74/80\n",
      "1/1 [==============================] - 0s 266ms/step - loss: 3.2487e-11 - val_loss: 0.0112\n",
      "Epoch 75/80\n",
      "1/1 [==============================] - 0s 266ms/step - loss: 1.6175e-10 - val_loss: 0.0112\n",
      "Epoch 76/80\n",
      "1/1 [==============================] - 0s 272ms/step - loss: 2.7953e-10 - val_loss: 0.0112\n",
      "Epoch 77/80\n",
      "1/1 [==============================] - 0s 269ms/step - loss: 3.0111e-10 - val_loss: 0.0112\n",
      "Epoch 78/80\n",
      "1/1 [==============================] - 0s 273ms/step - loss: 2.1609e-10 - val_loss: 0.0112\n",
      "Epoch 79/80\n",
      "1/1 [==============================] - 0s 271ms/step - loss: 9.2950e-11 - val_loss: 0.0112\n",
      "Epoch 80/80\n",
      "1/1 [==============================] - 0s 261ms/step - loss: 1.0698e-11 - val_loss: 0.0112\n"
     ]
    },
    {
     "data": {
      "text/plain": [
       "<keras.callbacks.History at 0x19fc29ae3a0>"
      ]
     },
     "execution_count": 43,
     "metadata": {},
     "output_type": "execute_result"
    }
   ],
   "source": [
    "model.fit(X_train,Y_train,epochs=80,batch_size=84,verbose=1,validation_data=(X_test,Y_test))"
   ]
  },
  {
   "cell_type": "code",
   "execution_count": 46,
   "id": "341c3202",
   "metadata": {},
   "outputs": [
    {
     "name": "stdout",
     "output_type": "stream",
     "text": [
      "1/1 [==============================] - 0s 63ms/step\n",
      "1/1 [==============================] - 0s 68ms/step\n"
     ]
    }
   ],
   "source": [
    "train_predict = model.predict(X_train)\n",
    "test_predict = model.predict(X_test)"
   ]
  },
  {
   "cell_type": "code",
   "execution_count": 47,
   "id": "4d8985d2",
   "metadata": {},
   "outputs": [],
   "source": [
    "train_predict = Scaler.inverse_transform(train_predict)\n",
    "test_predict = Scaler.inverse_transform(test_predict)"
   ]
  },
  {
   "cell_type": "markdown",
   "id": "0f5b3e81",
   "metadata": {},
   "source": [
    "# Calculating the Performance"
   ]
  },
  {
   "cell_type": "code",
   "execution_count": 48,
   "id": "3d55f18f",
   "metadata": {},
   "outputs": [],
   "source": [
    "import math\n",
    "from sklearn.metrics import mean_squared_error"
   ]
  },
  {
   "cell_type": "code",
   "execution_count": 49,
   "id": "1f644980",
   "metadata": {},
   "outputs": [
    {
     "data": {
      "text/plain": [
       "110.82669261857575"
      ]
     },
     "execution_count": 49,
     "metadata": {},
     "output_type": "execute_result"
    }
   ],
   "source": [
    "math.sqrt(mean_squared_error(Y_train,train_predict))"
   ]
  },
  {
   "cell_type": "code",
   "execution_count": 50,
   "id": "151b1dfe",
   "metadata": {},
   "outputs": [
    {
     "data": {
      "text/plain": [
       "116.07796652800117"
      ]
     },
     "execution_count": 50,
     "metadata": {},
     "output_type": "execute_result"
    }
   ],
   "source": [
    "math.sqrt(mean_squared_error(Y_test,test_predict))"
   ]
  },
  {
   "cell_type": "markdown",
   "id": "0392cb3e",
   "metadata": {},
   "source": [
    "plotting the graph with predict train data, test data with actual data"
   ]
  },
  {
   "cell_type": "code",
   "execution_count": 51,
   "id": "5d0e2ddf",
   "metadata": {},
   "outputs": [
    {
     "data": {
      "image/png": "[encoded data removed]",
      "text/plain": [
       "<Figure size 1000x700 with 1 Axes>"
      ]
     },
     "metadata": {},
     "output_type": "display_data"
    }
   ],
   "source": [
    "look_back = 100\n",
    "\n",
    "#shift train prediction for plotting\n",
    "trainPredictPlot = np.empty_like(close_srt)\n",
    "trainPredictPlot[:, :] = np.nan\n",
    "trainPredictPlot[look_back:len(train_predict)+look_back, :] = train_predict\n",
    "# shift test predictions for plotting\n",
    "testPredictPlot = np.empty_like(close_srt)\n",
    "testPredictPlot[:, :] = np.nan\n",
    "testPredictPlot[len(train_predict)+(look_back*2)+1:len(close_srt)-1,:] = test_predict\n",
    "#plot baseline and predictions\n",
    "plt.figure(figsize=(10,7))\n",
    "plt.plot(Scaler.inverse_transform(close_srt))\n",
    "plt.plot(trainPredictPlot)\n",
    "plt.plot(testPredictPlot)\n",
    "plt.show()"
   ]
  },
  {
   "cell_type": "code",
   "execution_count": 52,
   "id": "1d9bbad8",
   "metadata": {},
   "outputs": [
    {
     "data": {
      "text/plain": [
       "611"
      ]
     },
     "execution_count": 52,
     "metadata": {},
     "output_type": "execute_result"
    }
   ],
   "source": [
    "len(test_data)"
   ]
  },
  {
   "cell_type": "code",
   "execution_count": 53,
   "id": "ec7fce0a",
   "metadata": {},
   "outputs": [
    {
     "data": {
      "text/plain": [
       "(1, 100)"
      ]
     },
     "execution_count": 53,
     "metadata": {},
     "output_type": "execute_result"
    }
   ],
   "source": [
    "pred_input=test_data[511:].reshape(1,-1)\n",
    "pred_input.shape"
   ]
  },
  {
   "cell_type": "code",
   "execution_count": 54,
   "id": "572f297d",
   "metadata": {},
   "outputs": [],
   "source": [
    "temp_input=list(pred_input)\n",
    "temp_input=temp_input[0].tolist()"
   ]
  },
  {
   "cell_type": "code",
   "execution_count": 55,
   "id": "3e828979",
   "metadata": {},
   "outputs": [
    {
     "data": {
      "text/plain": [
       "[0.8527369281045751,\n",
       " 0.8621323529411764,\n",
       " 0.8345588235294117,\n",
       " 0.84375,\n",
       " 0.7146650326797386,\n",
       " 0.6605392156862745,\n",
       " 0.6542075163398693,\n",
       " 0.6803513071895424,\n",
       " 0.6689133986928104,\n",
       " 0.6642156862745099,\n",
       " 0.678921568627451,\n",
       " 0.6913807189542482,\n",
       " 0.7089460784313726,\n",
       " 0.7226307189542485,\n",
       " 0.7340686274509802,\n",
       " 0.7212009803921569,\n",
       " 0.749795751633987,\n",
       " 0.7689950980392157,\n",
       " 0.7446895424836601,\n",
       " 0.7120098039215685,\n",
       " 0.7467320261437909,\n",
       " 0.7549019607843137,\n",
       " 0.7604166666666667,\n",
       " 0.7598039215686274,\n",
       " 0.7465277777777777,\n",
       " 0.7624591503267975,\n",
       " 0.7706290849673203,\n",
       " 0.8041258169934642,\n",
       " 0.7810457516339868,\n",
       " 0.7941176470588236,\n",
       " 0.7602124183006536,\n",
       " 0.7348856209150327,\n",
       " 0.7240604575163399,\n",
       " 0.7399918300653596,\n",
       " 0.749795751633987,\n",
       " 0.7614379084967322,\n",
       " 0.7542892156862746,\n",
       " 0.7475490196078431,\n",
       " 0.769607843137255,\n",
       " 0.7495915032679739,\n",
       " 0.8171977124183007,\n",
       " 0.8020833333333335,\n",
       " 0.7773692810457518,\n",
       " 0.7571486928104576,\n",
       " 0.7937091503267975,\n",
       " 0.7916666666666667,\n",
       " 0.7714460784313726,\n",
       " 0.7526552287581698,\n",
       " 0.7269199346405228,\n",
       " 0.6629901960784313,\n",
       " 0.6819852941176472,\n",
       " 0.6441993464052288,\n",
       " 0.6215277777777778,\n",
       " 0.6439950980392156,\n",
       " 0.6631944444444445,\n",
       " 0.6754493464052289,\n",
       " 0.6370506535947713,\n",
       " 0.6460375816993464,\n",
       " 0.6589052287581699,\n",
       " 0.6587009803921569,\n",
       " 0.6779003267973858,\n",
       " 0.6319444444444445,\n",
       " 0.6311274509803921,\n",
       " 0.627859477124183,\n",
       " 0.647671568627451,\n",
       " 0.6399101307189542,\n",
       " 0.6348039215686274,\n",
       " 0.6386846405228759,\n",
       " 0.6233660130718954,\n",
       " 0.627450980392157,\n",
       " 0.6397058823529412,\n",
       " 0.6470588235294118,\n",
       " 0.661968954248366,\n",
       " 0.6707516339869282,\n",
       " 0.6519607843137255,\n",
       " 0.6311274509803921,\n",
       " 0.6129493464052288,\n",
       " 0.6376633986928105,\n",
       " 0.6225490196078431,\n",
       " 0.627450980392157,\n",
       " 0.6333741830065359,\n",
       " 0.6264297385620916,\n",
       " 0.6362336601307189,\n",
       " 0.5831290849673202,\n",
       " 0.5778186274509804,\n",
       " 0.5723039215686275,\n",
       " 0.5800653594771241,\n",
       " 0.5761846405228758,\n",
       " 0.5516748366013072,\n",
       " 0.5788398692810458,\n",
       " 0.625,\n",
       " 0.6358251633986928,\n",
       " 0.6294934640522877,\n",
       " 0.6288807189542484,\n",
       " 0.6276552287581699,\n",
       " 0.6223447712418301,\n",
       " 0.6337826797385621,\n",
       " 0.6262254901960784,\n",
       " 0.622140522875817,\n",
       " 0.6241830065359477]"
      ]
     },
     "execution_count": 55,
     "metadata": {},
     "output_type": "execute_result"
    }
   ],
   "source": [
    "temp_input"
   ]
  },
  {
   "cell_type": "markdown",
   "id": "0958f91c",
   "metadata": {},
   "source": [
    "predict for 35 days"
   ]
  },
  {
   "cell_type": "code",
   "execution_count": 56,
   "id": "becae792",
   "metadata": {},
   "outputs": [
    {
     "name": "stdout",
     "output_type": "stream",
     "text": [
      "[0.22622143]\n",
      "101\n",
      "1 day input [0.86213235 0.83455882 0.84375    0.71466503 0.66053922 0.65420752\n",
      " 0.68035131 0.6689134  0.66421569 0.67892157 0.69138072 0.70894608\n",
      " 0.72263072 0.73406863 0.72120098 0.74979575 0.7689951  0.74468954\n",
      " 0.7120098  0.74673203 0.75490196 0.76041667 0.75980392 0.74652778\n",
      " 0.76245915 0.77062908 0.80412582 0.78104575 0.79411765 0.76021242\n",
      " 0.73488562 0.72406046 0.73999183 0.74979575 0.76143791 0.75428922\n",
      " 0.74754902 0.76960784 0.7495915  0.81719771 0.80208333 0.77736928\n",
      " 0.75714869 0.79370915 0.79166667 0.77144608 0.75265523 0.72691993\n",
      " 0.6629902  0.68198529 0.64419935 0.62152778 0.6439951  0.66319444\n",
      " 0.67544935 0.63705065 0.64603758 0.65890523 0.65870098 0.67790033\n",
      " 0.63194444 0.63112745 0.62785948 0.64767157 0.63991013 0.63480392\n",
      " 0.63868464 0.62336601 0.62745098 0.63970588 0.64705882 0.66196895\n",
      " 0.67075163 0.65196078 0.63112745 0.61294935 0.6376634  0.62254902\n",
      " 0.62745098 0.63337418 0.62642974 0.63623366 0.58312908 0.57781863\n",
      " 0.57230392 0.58006536 0.57618464 0.55167484 0.57883987 0.625\n",
      " 0.63582516 0.62949346 0.62888072 0.62765523 0.62234477 0.63378268\n",
      " 0.62622549 0.62214052 0.62418301 0.22622143]\n",
      "1 dat output [[0.22579089]]\n",
      "2 day input [0.83455882 0.84375    0.71466503 0.66053922 0.65420752 0.68035131\n",
      " 0.6689134  0.66421569 0.67892157 0.69138072 0.70894608 0.72263072\n",
      " 0.73406863 0.72120098 0.74979575 0.7689951  0.74468954 0.7120098\n",
      " 0.74673203 0.75490196 0.76041667 0.75980392 0.74652778 0.76245915\n",
      " 0.77062908 0.80412582 0.78104575 0.79411765 0.76021242 0.73488562\n",
      " 0.72406046 0.73999183 0.74979575 0.76143791 0.75428922 0.74754902\n",
      " 0.76960784 0.7495915  0.81719771 0.80208333 0.77736928 0.75714869\n",
      " 0.79370915 0.79166667 0.77144608 0.75265523 0.72691993 0.6629902\n",
      " 0.68198529 0.64419935 0.62152778 0.6439951  0.66319444 0.67544935\n",
      " 0.63705065 0.64603758 0.65890523 0.65870098 0.67790033 0.63194444\n",
      " 0.63112745 0.62785948 0.64767157 0.63991013 0.63480392 0.63868464\n",
      " 0.62336601 0.62745098 0.63970588 0.64705882 0.66196895 0.67075163\n",
      " 0.65196078 0.63112745 0.61294935 0.6376634  0.62254902 0.62745098\n",
      " 0.63337418 0.62642974 0.63623366 0.58312908 0.57781863 0.57230392\n",
      " 0.58006536 0.57618464 0.55167484 0.57883987 0.625      0.63582516\n",
      " 0.62949346 0.62888072 0.62765523 0.62234477 0.63378268 0.62622549\n",
      " 0.62214052 0.62418301 0.22622143 0.22579089]\n",
      "2 dat output [[0.2242174]]\n",
      "3 day input [0.84375    0.71466503 0.66053922 0.65420752 0.68035131 0.6689134\n",
      " 0.66421569 0.67892157 0.69138072 0.70894608 0.72263072 0.73406863\n",
      " 0.72120098 0.74979575 0.7689951  0.74468954 0.7120098  0.74673203\n",
      " 0.75490196 0.76041667 0.75980392 0.74652778 0.76245915 0.77062908\n",
      " 0.80412582 0.78104575 0.79411765 0.76021242 0.73488562 0.72406046\n",
      " 0.73999183 0.74979575 0.76143791 0.75428922 0.74754902 0.76960784\n",
      " 0.7495915  0.81719771 0.80208333 0.77736928 0.75714869 0.79370915\n",
      " 0.79166667 0.77144608 0.75265523 0.72691993 0.6629902  0.68198529\n",
      " 0.64419935 0.62152778 0.6439951  0.66319444 0.67544935 0.63705065\n",
      " 0.64603758 0.65890523 0.65870098 0.67790033 0.63194444 0.63112745\n",
      " 0.62785948 0.64767157 0.63991013 0.63480392 0.63868464 0.62336601\n",
      " 0.62745098 0.63970588 0.64705882 0.66196895 0.67075163 0.65196078\n",
      " 0.63112745 0.61294935 0.6376634  0.62254902 0.62745098 0.63337418\n",
      " 0.62642974 0.63623366 0.58312908 0.57781863 0.57230392 0.58006536\n",
      " 0.57618464 0.55167484 0.57883987 0.625      0.63582516 0.62949346\n",
      " 0.62888072 0.62765523 0.62234477 0.63378268 0.62622549 0.62214052\n",
      " 0.62418301 0.22622143 0.22579089 0.2242174 ]\n",
      "3 dat output [[0.22142124]]\n",
      "4 day input [0.71466503 0.66053922 0.65420752 0.68035131 0.6689134  0.66421569\n",
      " 0.67892157 0.69138072 0.70894608 0.72263072 0.73406863 0.72120098\n",
      " 0.74979575 0.7689951  0.74468954 0.7120098  0.74673203 0.75490196\n",
      " 0.76041667 0.75980392 0.74652778 0.76245915 0.77062908 0.80412582\n",
      " 0.78104575 0.79411765 0.76021242 0.73488562 0.72406046 0.73999183\n",
      " 0.74979575 0.76143791 0.75428922 0.74754902 0.76960784 0.7495915\n",
      " 0.81719771 0.80208333 0.77736928 0.75714869 0.79370915 0.79166667\n",
      " 0.77144608 0.75265523 0.72691993 0.6629902  0.68198529 0.64419935\n",
      " 0.62152778 0.6439951  0.66319444 0.67544935 0.63705065 0.64603758\n",
      " 0.65890523 0.65870098 0.67790033 0.63194444 0.63112745 0.62785948\n",
      " 0.64767157 0.63991013 0.63480392 0.63868464 0.62336601 0.62745098\n",
      " 0.63970588 0.64705882 0.66196895 0.67075163 0.65196078 0.63112745\n",
      " 0.61294935 0.6376634  0.62254902 0.62745098 0.63337418 0.62642974\n",
      " 0.63623366 0.58312908 0.57781863 0.57230392 0.58006536 0.57618464\n",
      " 0.55167484 0.57883987 0.625      0.63582516 0.62949346 0.62888072\n",
      " 0.62765523 0.62234477 0.63378268 0.62622549 0.62214052 0.62418301\n",
      " 0.22622143 0.22579089 0.2242174  0.22142124]\n",
      "4 dat output [[0.21751377]]\n",
      "5 day input [0.66053922 0.65420752 0.68035131 0.6689134  0.66421569 0.67892157\n",
      " 0.69138072 0.70894608 0.72263072 0.73406863 0.72120098 0.74979575\n",
      " 0.7689951  0.74468954 0.7120098  0.74673203 0.75490196 0.76041667\n",
      " 0.75980392 0.74652778 0.76245915 0.77062908 0.80412582 0.78104575\n",
      " 0.79411765 0.76021242 0.73488562 0.72406046 0.73999183 0.74979575\n",
      " 0.76143791 0.75428922 0.74754902 0.76960784 0.7495915  0.81719771\n",
      " 0.80208333 0.77736928 0.75714869 0.79370915 0.79166667 0.77144608\n",
      " 0.75265523 0.72691993 0.6629902  0.68198529 0.64419935 0.62152778\n",
      " 0.6439951  0.66319444 0.67544935 0.63705065 0.64603758 0.65890523\n",
      " 0.65870098 0.67790033 0.63194444 0.63112745 0.62785948 0.64767157\n",
      " 0.63991013 0.63480392 0.63868464 0.62336601 0.62745098 0.63970588\n",
      " 0.64705882 0.66196895 0.67075163 0.65196078 0.63112745 0.61294935\n",
      " 0.6376634  0.62254902 0.62745098 0.63337418 0.62642974 0.63623366\n",
      " 0.58312908 0.57781863 0.57230392 0.58006536 0.57618464 0.55167484\n",
      " 0.57883987 0.625      0.63582516 0.62949346 0.62888072 0.62765523\n",
      " 0.62234477 0.63378268 0.62622549 0.62214052 0.62418301 0.22622143\n",
      " 0.22579089 0.2242174  0.22142124 0.21751377]\n",
      "5 dat output [[0.21270539]]\n",
      "6 day input [0.65420752 0.68035131 0.6689134  0.66421569 0.67892157 0.69138072\n",
      " 0.70894608 0.72263072 0.73406863 0.72120098 0.74979575 0.7689951\n",
      " 0.74468954 0.7120098  0.74673203 0.75490196 0.76041667 0.75980392\n",
      " 0.74652778 0.76245915 0.77062908 0.80412582 0.78104575 0.79411765\n",
      " 0.76021242 0.73488562 0.72406046 0.73999183 0.74979575 0.76143791\n",
      " 0.75428922 0.74754902 0.76960784 0.7495915  0.81719771 0.80208333\n",
      " 0.77736928 0.75714869 0.79370915 0.79166667 0.77144608 0.75265523\n",
      " 0.72691993 0.6629902  0.68198529 0.64419935 0.62152778 0.6439951\n",
      " 0.66319444 0.67544935 0.63705065 0.64603758 0.65890523 0.65870098\n",
      " 0.67790033 0.63194444 0.63112745 0.62785948 0.64767157 0.63991013\n",
      " 0.63480392 0.63868464 0.62336601 0.62745098 0.63970588 0.64705882\n",
      " 0.66196895 0.67075163 0.65196078 0.63112745 0.61294935 0.6376634\n",
      " 0.62254902 0.62745098 0.63337418 0.62642974 0.63623366 0.58312908\n",
      " 0.57781863 0.57230392 0.58006536 0.57618464 0.55167484 0.57883987\n",
      " 0.625      0.63582516 0.62949346 0.62888072 0.62765523 0.62234477\n",
      " 0.63378268 0.62622549 0.62214052 0.62418301 0.22622143 0.22579089\n",
      " 0.2242174  0.22142124 0.21751377 0.21270539]\n",
      "6 dat output [[0.207243]]\n",
      "7 day input [0.68035131 0.6689134  0.66421569 0.67892157 0.69138072 0.70894608\n",
      " 0.72263072 0.73406863 0.72120098 0.74979575 0.7689951  0.74468954\n",
      " 0.7120098  0.74673203 0.75490196 0.76041667 0.75980392 0.74652778\n",
      " 0.76245915 0.77062908 0.80412582 0.78104575 0.79411765 0.76021242\n",
      " 0.73488562 0.72406046 0.73999183 0.74979575 0.76143791 0.75428922\n",
      " 0.74754902 0.76960784 0.7495915  0.81719771 0.80208333 0.77736928\n",
      " 0.75714869 0.79370915 0.79166667 0.77144608 0.75265523 0.72691993\n",
      " 0.6629902  0.68198529 0.64419935 0.62152778 0.6439951  0.66319444\n",
      " 0.67544935 0.63705065 0.64603758 0.65890523 0.65870098 0.67790033\n",
      " 0.63194444 0.63112745 0.62785948 0.64767157 0.63991013 0.63480392\n",
      " 0.63868464 0.62336601 0.62745098 0.63970588 0.64705882 0.66196895\n",
      " 0.67075163 0.65196078 0.63112745 0.61294935 0.6376634  0.62254902\n",
      " 0.62745098 0.63337418 0.62642974 0.63623366 0.58312908 0.57781863\n",
      " 0.57230392 0.58006536 0.57618464 0.55167484 0.57883987 0.625\n",
      " 0.63582516 0.62949346 0.62888072 0.62765523 0.62234477 0.63378268\n",
      " 0.62622549 0.62214052 0.62418301 0.22622143 0.22579089 0.2242174\n",
      " 0.22142124 0.21751377 0.21270539 0.207243  ]\n",
      "7 dat output [[0.2013698]]\n",
      "8 day input [0.6689134  0.66421569 0.67892157 0.69138072 0.70894608 0.72263072\n",
      " 0.73406863 0.72120098 0.74979575 0.7689951  0.74468954 0.7120098\n",
      " 0.74673203 0.75490196 0.76041667 0.75980392 0.74652778 0.76245915\n",
      " 0.77062908 0.80412582 0.78104575 0.79411765 0.76021242 0.73488562\n",
      " 0.72406046 0.73999183 0.74979575 0.76143791 0.75428922 0.74754902\n",
      " 0.76960784 0.7495915  0.81719771 0.80208333 0.77736928 0.75714869\n",
      " 0.79370915 0.79166667 0.77144608 0.75265523 0.72691993 0.6629902\n",
      " 0.68198529 0.64419935 0.62152778 0.6439951  0.66319444 0.67544935\n",
      " 0.63705065 0.64603758 0.65890523 0.65870098 0.67790033 0.63194444\n",
      " 0.63112745 0.62785948 0.64767157 0.63991013 0.63480392 0.63868464\n",
      " 0.62336601 0.62745098 0.63970588 0.64705882 0.66196895 0.67075163\n",
      " 0.65196078 0.63112745 0.61294935 0.6376634  0.62254902 0.62745098\n",
      " 0.63337418 0.62642974 0.63623366 0.58312908 0.57781863 0.57230392\n",
      " 0.58006536 0.57618464 0.55167484 0.57883987 0.625      0.63582516\n",
      " 0.62949346 0.62888072 0.62765523 0.62234477 0.63378268 0.62622549\n",
      " 0.62214052 0.62418301 0.22622143 0.22579089 0.2242174  0.22142124\n",
      " 0.21751377 0.21270539 0.207243   0.20136981]\n",
      "8 dat output [[0.19530307]]\n",
      "9 day input [0.66421569 0.67892157 0.69138072 0.70894608 0.72263072 0.73406863\n",
      " 0.72120098 0.74979575 0.7689951  0.74468954 0.7120098  0.74673203\n",
      " 0.75490196 0.76041667 0.75980392 0.74652778 0.76245915 0.77062908\n",
      " 0.80412582 0.78104575 0.79411765 0.76021242 0.73488562 0.72406046\n",
      " 0.73999183 0.74979575 0.76143791 0.75428922 0.74754902 0.76960784\n",
      " 0.7495915  0.81719771 0.80208333 0.77736928 0.75714869 0.79370915\n",
      " 0.79166667 0.77144608 0.75265523 0.72691993 0.6629902  0.68198529\n",
      " 0.64419935 0.62152778 0.6439951  0.66319444 0.67544935 0.63705065\n",
      " 0.64603758 0.65890523 0.65870098 0.67790033 0.63194444 0.63112745\n",
      " 0.62785948 0.64767157 0.63991013 0.63480392 0.63868464 0.62336601\n",
      " 0.62745098 0.63970588 0.64705882 0.66196895 0.67075163 0.65196078\n",
      " 0.63112745 0.61294935 0.6376634  0.62254902 0.62745098 0.63337418\n",
      " 0.62642974 0.63623366 0.58312908 0.57781863 0.57230392 0.58006536\n",
      " 0.57618464 0.55167484 0.57883987 0.625      0.63582516 0.62949346\n",
      " 0.62888072 0.62765523 0.62234477 0.63378268 0.62622549 0.62214052\n",
      " 0.62418301 0.22622143 0.22579089 0.2242174  0.22142124 0.21751377\n",
      " 0.21270539 0.207243   0.20136981 0.19530307]\n",
      "9 dat output [[0.18922286]]\n",
      "10 day input [0.67892157 0.69138072 0.70894608 0.72263072 0.73406863 0.72120098\n",
      " 0.74979575 0.7689951  0.74468954 0.7120098  0.74673203 0.75490196\n",
      " 0.76041667 0.75980392 0.74652778 0.76245915 0.77062908 0.80412582\n",
      " 0.78104575 0.79411765 0.76021242 0.73488562 0.72406046 0.73999183\n",
      " 0.74979575 0.76143791 0.75428922 0.74754902 0.76960784 0.7495915\n",
      " 0.81719771 0.80208333 0.77736928 0.75714869 0.79370915 0.79166667\n",
      " 0.77144608 0.75265523 0.72691993 0.6629902  0.68198529 0.64419935\n",
      " 0.62152778 0.6439951  0.66319444 0.67544935 0.63705065 0.64603758\n",
      " 0.65890523 0.65870098 0.67790033 0.63194444 0.63112745 0.62785948\n",
      " 0.64767157 0.63991013 0.63480392 0.63868464 0.62336601 0.62745098\n",
      " 0.63970588 0.64705882 0.66196895 0.67075163 0.65196078 0.63112745\n",
      " 0.61294935 0.6376634  0.62254902 0.62745098 0.63337418 0.62642974\n",
      " 0.63623366 0.58312908 0.57781863 0.57230392 0.58006536 0.57618464\n",
      " 0.55167484 0.57883987 0.625      0.63582516 0.62949346 0.62888072\n",
      " 0.62765523 0.62234477 0.63378268 0.62622549 0.62214052 0.62418301\n",
      " 0.22622143 0.22579089 0.2242174  0.22142124 0.21751377 0.21270539\n",
      " 0.207243   0.20136981 0.19530307 0.18922286]\n",
      "10 dat output [[0.18326972]]\n",
      "11 day input [0.69138072 0.70894608 0.72263072 0.73406863 0.72120098 0.74979575\n",
      " 0.7689951  0.74468954 0.7120098  0.74673203 0.75490196 0.76041667\n",
      " 0.75980392 0.74652778 0.76245915 0.77062908 0.80412582 0.78104575\n",
      " 0.79411765 0.76021242 0.73488562 0.72406046 0.73999183 0.74979575\n",
      " 0.76143791 0.75428922 0.74754902 0.76960784 0.7495915  0.81719771\n",
      " 0.80208333 0.77736928 0.75714869 0.79370915 0.79166667 0.77144608\n",
      " 0.75265523 0.72691993 0.6629902  0.68198529 0.64419935 0.62152778\n",
      " 0.6439951  0.66319444 0.67544935 0.63705065 0.64603758 0.65890523\n",
      " 0.65870098 0.67790033 0.63194444 0.63112745 0.62785948 0.64767157\n",
      " 0.63991013 0.63480392 0.63868464 0.62336601 0.62745098 0.63970588\n",
      " 0.64705882 0.66196895 0.67075163 0.65196078 0.63112745 0.61294935\n",
      " 0.6376634  0.62254902 0.62745098 0.63337418 0.62642974 0.63623366\n",
      " 0.58312908 0.57781863 0.57230392 0.58006536 0.57618464 0.55167484\n",
      " 0.57883987 0.625      0.63582516 0.62949346 0.62888072 0.62765523\n",
      " 0.62234477 0.63378268 0.62622549 0.62214052 0.62418301 0.22622143\n",
      " 0.22579089 0.2242174  0.22142124 0.21751377 0.21270539 0.207243\n",
      " 0.20136981 0.19530307 0.18922286 0.18326972]\n",
      "11 dat output [[0.17754674]]\n",
      "12 day input [0.70894608 0.72263072 0.73406863 0.72120098 0.74979575 0.7689951\n",
      " 0.74468954 0.7120098  0.74673203 0.75490196 0.76041667 0.75980392\n",
      " 0.74652778 0.76245915 0.77062908 0.80412582 0.78104575 0.79411765\n",
      " 0.76021242 0.73488562 0.72406046 0.73999183 0.74979575 0.76143791\n",
      " 0.75428922 0.74754902 0.76960784 0.7495915  0.81719771 0.80208333\n",
      " 0.77736928 0.75714869 0.79370915 0.79166667 0.77144608 0.75265523\n",
      " 0.72691993 0.6629902  0.68198529 0.64419935 0.62152778 0.6439951\n",
      " 0.66319444 0.67544935 0.63705065 0.64603758 0.65890523 0.65870098\n",
      " 0.67790033 0.63194444 0.63112745 0.62785948 0.64767157 0.63991013\n",
      " 0.63480392 0.63868464 0.62336601 0.62745098 0.63970588 0.64705882\n",
      " 0.66196895 0.67075163 0.65196078 0.63112745 0.61294935 0.6376634\n",
      " 0.62254902 0.62745098 0.63337418 0.62642974 0.63623366 0.58312908\n",
      " 0.57781863 0.57230392 0.58006536 0.57618464 0.55167484 0.57883987\n",
      " 0.625      0.63582516 0.62949346 0.62888072 0.62765523 0.62234477\n",
      " 0.63378268 0.62622549 0.62214052 0.62418301 0.22622143 0.22579089\n",
      " 0.2242174  0.22142124 0.21751377 0.21270539 0.207243   0.20136981\n",
      " 0.19530307 0.18922286 0.18326972 0.17754674]\n",
      "12 dat output [[0.17212355]]\n",
      "13 day input [0.72263072 0.73406863 0.72120098 0.74979575 0.7689951  0.74468954\n",
      " 0.7120098  0.74673203 0.75490196 0.76041667 0.75980392 0.74652778\n",
      " 0.76245915 0.77062908 0.80412582 0.78104575 0.79411765 0.76021242\n",
      " 0.73488562 0.72406046 0.73999183 0.74979575 0.76143791 0.75428922\n",
      " 0.74754902 0.76960784 0.7495915  0.81719771 0.80208333 0.77736928\n",
      " 0.75714869 0.79370915 0.79166667 0.77144608 0.75265523 0.72691993\n",
      " 0.6629902  0.68198529 0.64419935 0.62152778 0.6439951  0.66319444\n",
      " 0.67544935 0.63705065 0.64603758 0.65890523 0.65870098 0.67790033\n",
      " 0.63194444 0.63112745 0.62785948 0.64767157 0.63991013 0.63480392\n",
      " 0.63868464 0.62336601 0.62745098 0.63970588 0.64705882 0.66196895\n",
      " 0.67075163 0.65196078 0.63112745 0.61294935 0.6376634  0.62254902\n",
      " 0.62745098 0.63337418 0.62642974 0.63623366 0.58312908 0.57781863\n",
      " 0.57230392 0.58006536 0.57618464 0.55167484 0.57883987 0.625\n",
      " 0.63582516 0.62949346 0.62888072 0.62765523 0.62234477 0.63378268\n",
      " 0.62622549 0.62214052 0.62418301 0.22622143 0.22579089 0.2242174\n",
      " 0.22142124 0.21751377 0.21270539 0.207243   0.20136981 0.19530307\n",
      " 0.18922286 0.18326972 0.17754674 0.17212355]\n",
      "13 dat output [[0.16704278]]\n",
      "14 day input [0.73406863 0.72120098 0.74979575 0.7689951  0.74468954 0.7120098\n",
      " 0.74673203 0.75490196 0.76041667 0.75980392 0.74652778 0.76245915\n",
      " 0.77062908 0.80412582 0.78104575 0.79411765 0.76021242 0.73488562\n",
      " 0.72406046 0.73999183 0.74979575 0.76143791 0.75428922 0.74754902\n",
      " 0.76960784 0.7495915  0.81719771 0.80208333 0.77736928 0.75714869\n",
      " 0.79370915 0.79166667 0.77144608 0.75265523 0.72691993 0.6629902\n",
      " 0.68198529 0.64419935 0.62152778 0.6439951  0.66319444 0.67544935\n",
      " 0.63705065 0.64603758 0.65890523 0.65870098 0.67790033 0.63194444\n",
      " 0.63112745 0.62785948 0.64767157 0.63991013 0.63480392 0.63868464\n",
      " 0.62336601 0.62745098 0.63970588 0.64705882 0.66196895 0.67075163\n",
      " 0.65196078 0.63112745 0.61294935 0.6376634  0.62254902 0.62745098\n",
      " 0.63337418 0.62642974 0.63623366 0.58312908 0.57781863 0.57230392\n",
      " 0.58006536 0.57618464 0.55167484 0.57883987 0.625      0.63582516\n",
      " 0.62949346 0.62888072 0.62765523 0.62234477 0.63378268 0.62622549\n",
      " 0.62214052 0.62418301 0.22622143 0.22579089 0.2242174  0.22142124\n",
      " 0.21751377 0.21270539 0.207243   0.20136981 0.19530307 0.18922286\n",
      " 0.18326972 0.17754674 0.17212355 0.16704278]\n",
      "14 dat output [[0.16232502]]\n",
      "15 day input [0.72120098 0.74979575 0.7689951  0.74468954 0.7120098  0.74673203\n",
      " 0.75490196 0.76041667 0.75980392 0.74652778 0.76245915 0.77062908\n",
      " 0.80412582 0.78104575 0.79411765 0.76021242 0.73488562 0.72406046\n",
      " 0.73999183 0.74979575 0.76143791 0.75428922 0.74754902 0.76960784\n",
      " 0.7495915  0.81719771 0.80208333 0.77736928 0.75714869 0.79370915\n",
      " 0.79166667 0.77144608 0.75265523 0.72691993 0.6629902  0.68198529\n",
      " 0.64419935 0.62152778 0.6439951  0.66319444 0.67544935 0.63705065\n",
      " 0.64603758 0.65890523 0.65870098 0.67790033 0.63194444 0.63112745\n",
      " 0.62785948 0.64767157 0.63991013 0.63480392 0.63868464 0.62336601\n",
      " 0.62745098 0.63970588 0.64705882 0.66196895 0.67075163 0.65196078\n",
      " 0.63112745 0.61294935 0.6376634  0.62254902 0.62745098 0.63337418\n",
      " 0.62642974 0.63623366 0.58312908 0.57781863 0.57230392 0.58006536\n",
      " 0.57618464 0.55167484 0.57883987 0.625      0.63582516 0.62949346\n",
      " 0.62888072 0.62765523 0.62234477 0.63378268 0.62622549 0.62214052\n",
      " 0.62418301 0.22622143 0.22579089 0.2242174  0.22142124 0.21751377\n",
      " 0.21270539 0.207243   0.20136981 0.19530307 0.18922286 0.18326972\n",
      " 0.17754674 0.17212355 0.16704278 0.16232502]\n",
      "15 dat output [[0.15797472]]\n",
      "16 day input [0.74979575 0.7689951  0.74468954 0.7120098  0.74673203 0.75490196\n",
      " 0.76041667 0.75980392 0.74652778 0.76245915 0.77062908 0.80412582\n",
      " 0.78104575 0.79411765 0.76021242 0.73488562 0.72406046 0.73999183\n",
      " 0.74979575 0.76143791 0.75428922 0.74754902 0.76960784 0.7495915\n",
      " 0.81719771 0.80208333 0.77736928 0.75714869 0.79370915 0.79166667\n",
      " 0.77144608 0.75265523 0.72691993 0.6629902  0.68198529 0.64419935\n",
      " 0.62152778 0.6439951  0.66319444 0.67544935 0.63705065 0.64603758\n",
      " 0.65890523 0.65870098 0.67790033 0.63194444 0.63112745 0.62785948\n",
      " 0.64767157 0.63991013 0.63480392 0.63868464 0.62336601 0.62745098\n",
      " 0.63970588 0.64705882 0.66196895 0.67075163 0.65196078 0.63112745\n",
      " 0.61294935 0.6376634  0.62254902 0.62745098 0.63337418 0.62642974\n",
      " 0.63623366 0.58312908 0.57781863 0.57230392 0.58006536 0.57618464\n",
      " 0.55167484 0.57883987 0.625      0.63582516 0.62949346 0.62888072\n",
      " 0.62765523 0.62234477 0.63378268 0.62622549 0.62214052 0.62418301\n",
      " 0.22622143 0.22579089 0.2242174  0.22142124 0.21751377 0.21270539\n",
      " 0.207243   0.20136981 0.19530307 0.18922286 0.18326972 0.17754674\n",
      " 0.17212355 0.16704278 0.16232502 0.15797472]\n",
      "16 dat output [[0.15398443]]\n",
      "17 day input [0.7689951  0.74468954 0.7120098  0.74673203 0.75490196 0.76041667\n",
      " 0.75980392 0.74652778 0.76245915 0.77062908 0.80412582 0.78104575\n",
      " 0.79411765 0.76021242 0.73488562 0.72406046 0.73999183 0.74979575\n",
      " 0.76143791 0.75428922 0.74754902 0.76960784 0.7495915  0.81719771\n",
      " 0.80208333 0.77736928 0.75714869 0.79370915 0.79166667 0.77144608\n",
      " 0.75265523 0.72691993 0.6629902  0.68198529 0.64419935 0.62152778\n",
      " 0.6439951  0.66319444 0.67544935 0.63705065 0.64603758 0.65890523\n",
      " 0.65870098 0.67790033 0.63194444 0.63112745 0.62785948 0.64767157\n",
      " 0.63991013 0.63480392 0.63868464 0.62336601 0.62745098 0.63970588\n",
      " 0.64705882 0.66196895 0.67075163 0.65196078 0.63112745 0.61294935\n",
      " 0.6376634  0.62254902 0.62745098 0.63337418 0.62642974 0.63623366\n",
      " 0.58312908 0.57781863 0.57230392 0.58006536 0.57618464 0.55167484\n",
      " 0.57883987 0.625      0.63582516 0.62949346 0.62888072 0.62765523\n",
      " 0.62234477 0.63378268 0.62622549 0.62214052 0.62418301 0.22622143\n",
      " 0.22579089 0.2242174  0.22142124 0.21751377 0.21270539 0.207243\n",
      " 0.20136981 0.19530307 0.18922286 0.18326972 0.17754674 0.17212355\n",
      " 0.16704278 0.16232502 0.15797472 0.15398443]\n",
      "17 dat output [[0.15033886]]\n",
      "18 day input [0.74468954 0.7120098  0.74673203 0.75490196 0.76041667 0.75980392\n",
      " 0.74652778 0.76245915 0.77062908 0.80412582 0.78104575 0.79411765\n",
      " 0.76021242 0.73488562 0.72406046 0.73999183 0.74979575 0.76143791\n",
      " 0.75428922 0.74754902 0.76960784 0.7495915  0.81719771 0.80208333\n",
      " 0.77736928 0.75714869 0.79370915 0.79166667 0.77144608 0.75265523\n",
      " 0.72691993 0.6629902  0.68198529 0.64419935 0.62152778 0.6439951\n",
      " 0.66319444 0.67544935 0.63705065 0.64603758 0.65890523 0.65870098\n",
      " 0.67790033 0.63194444 0.63112745 0.62785948 0.64767157 0.63991013\n",
      " 0.63480392 0.63868464 0.62336601 0.62745098 0.63970588 0.64705882\n",
      " 0.66196895 0.67075163 0.65196078 0.63112745 0.61294935 0.6376634\n",
      " 0.62254902 0.62745098 0.63337418 0.62642974 0.63623366 0.58312908\n",
      " 0.57781863 0.57230392 0.58006536 0.57618464 0.55167484 0.57883987\n",
      " 0.625      0.63582516 0.62949346 0.62888072 0.62765523 0.62234477\n",
      " 0.63378268 0.62622549 0.62214052 0.62418301 0.22622143 0.22579089\n",
      " 0.2242174  0.22142124 0.21751377 0.21270539 0.207243   0.20136981\n",
      " 0.19530307 0.18922286 0.18326972 0.17754674 0.17212355 0.16704278\n",
      " 0.16232502 0.15797472 0.15398443 0.15033886]\n",
      "18 dat output [[0.14701763]]\n",
      "19 day input [0.7120098  0.74673203 0.75490196 0.76041667 0.75980392 0.74652778\n",
      " 0.76245915 0.77062908 0.80412582 0.78104575 0.79411765 0.76021242\n",
      " 0.73488562 0.72406046 0.73999183 0.74979575 0.76143791 0.75428922\n",
      " 0.74754902 0.76960784 0.7495915  0.81719771 0.80208333 0.77736928\n",
      " 0.75714869 0.79370915 0.79166667 0.77144608 0.75265523 0.72691993\n",
      " 0.6629902  0.68198529 0.64419935 0.62152778 0.6439951  0.66319444\n",
      " 0.67544935 0.63705065 0.64603758 0.65890523 0.65870098 0.67790033\n",
      " 0.63194444 0.63112745 0.62785948 0.64767157 0.63991013 0.63480392\n",
      " 0.63868464 0.62336601 0.62745098 0.63970588 0.64705882 0.66196895\n",
      " 0.67075163 0.65196078 0.63112745 0.61294935 0.6376634  0.62254902\n",
      " 0.62745098 0.63337418 0.62642974 0.63623366 0.58312908 0.57781863\n",
      " 0.57230392 0.58006536 0.57618464 0.55167484 0.57883987 0.625\n",
      " 0.63582516 0.62949346 0.62888072 0.62765523 0.62234477 0.63378268\n",
      " 0.62622549 0.62214052 0.62418301 0.22622143 0.22579089 0.2242174\n",
      " 0.22142124 0.21751377 0.21270539 0.207243   0.20136981 0.19530307\n",
      " 0.18922286 0.18326972 0.17754674 0.17212355 0.16704278 0.16232502\n",
      " 0.15797472 0.15398443 0.15033886 0.14701763]\n",
      "19 dat output [[0.14399783]]\n",
      "20 day input [0.74673203 0.75490196 0.76041667 0.75980392 0.74652778 0.76245915\n",
      " 0.77062908 0.80412582 0.78104575 0.79411765 0.76021242 0.73488562\n",
      " 0.72406046 0.73999183 0.74979575 0.76143791 0.75428922 0.74754902\n",
      " 0.76960784 0.7495915  0.81719771 0.80208333 0.77736928 0.75714869\n",
      " 0.79370915 0.79166667 0.77144608 0.75265523 0.72691993 0.6629902\n",
      " 0.68198529 0.64419935 0.62152778 0.6439951  0.66319444 0.67544935\n",
      " 0.63705065 0.64603758 0.65890523 0.65870098 0.67790033 0.63194444\n",
      " 0.63112745 0.62785948 0.64767157 0.63991013 0.63480392 0.63868464\n",
      " 0.62336601 0.62745098 0.63970588 0.64705882 0.66196895 0.67075163\n",
      " 0.65196078 0.63112745 0.61294935 0.6376634  0.62254902 0.62745098\n",
      " 0.63337418 0.62642974 0.63623366 0.58312908 0.57781863 0.57230392\n",
      " 0.58006536 0.57618464 0.55167484 0.57883987 0.625      0.63582516\n",
      " 0.62949346 0.62888072 0.62765523 0.62234477 0.63378268 0.62622549\n",
      " 0.62214052 0.62418301 0.22622143 0.22579089 0.2242174  0.22142124\n",
      " 0.21751377 0.21270539 0.207243   0.20136981 0.19530307 0.18922286\n",
      " 0.18326972 0.17754674 0.17212355 0.16704278 0.16232502 0.15797472\n",
      " 0.15398443 0.15033886 0.14701763 0.14399783]\n",
      "20 dat output [[0.14125542]]\n",
      "21 day input [0.75490196 0.76041667 0.75980392 0.74652778 0.76245915 0.77062908\n",
      " 0.80412582 0.78104575 0.79411765 0.76021242 0.73488562 0.72406046\n",
      " 0.73999183 0.74979575 0.76143791 0.75428922 0.74754902 0.76960784\n",
      " 0.7495915  0.81719771 0.80208333 0.77736928 0.75714869 0.79370915\n",
      " 0.79166667 0.77144608 0.75265523 0.72691993 0.6629902  0.68198529\n",
      " 0.64419935 0.62152778 0.6439951  0.66319444 0.67544935 0.63705065\n",
      " 0.64603758 0.65890523 0.65870098 0.67790033 0.63194444 0.63112745\n",
      " 0.62785948 0.64767157 0.63991013 0.63480392 0.63868464 0.62336601\n",
      " 0.62745098 0.63970588 0.64705882 0.66196895 0.67075163 0.65196078\n",
      " 0.63112745 0.61294935 0.6376634  0.62254902 0.62745098 0.63337418\n",
      " 0.62642974 0.63623366 0.58312908 0.57781863 0.57230392 0.58006536\n",
      " 0.57618464 0.55167484 0.57883987 0.625      0.63582516 0.62949346\n",
      " 0.62888072 0.62765523 0.62234477 0.63378268 0.62622549 0.62214052\n",
      " 0.62418301 0.22622143 0.22579089 0.2242174  0.22142124 0.21751377\n",
      " 0.21270539 0.207243   0.20136981 0.19530307 0.18922286 0.18326972\n",
      " 0.17754674 0.17212355 0.16704278 0.16232502 0.15797472 0.15398443\n",
      " 0.15033886 0.14701763 0.14399783 0.14125542]\n",
      "21 dat output [[0.13876677]]\n",
      "22 day input [0.76041667 0.75980392 0.74652778 0.76245915 0.77062908 0.80412582\n",
      " 0.78104575 0.79411765 0.76021242 0.73488562 0.72406046 0.73999183\n",
      " 0.74979575 0.76143791 0.75428922 0.74754902 0.76960784 0.7495915\n",
      " 0.81719771 0.80208333 0.77736928 0.75714869 0.79370915 0.79166667\n",
      " 0.77144608 0.75265523 0.72691993 0.6629902  0.68198529 0.64419935\n",
      " 0.62152778 0.6439951  0.66319444 0.67544935 0.63705065 0.64603758\n",
      " 0.65890523 0.65870098 0.67790033 0.63194444 0.63112745 0.62785948\n",
      " 0.64767157 0.63991013 0.63480392 0.63868464 0.62336601 0.62745098\n",
      " 0.63970588 0.64705882 0.66196895 0.67075163 0.65196078 0.63112745\n",
      " 0.61294935 0.6376634  0.62254902 0.62745098 0.63337418 0.62642974\n",
      " 0.63623366 0.58312908 0.57781863 0.57230392 0.58006536 0.57618464\n",
      " 0.55167484 0.57883987 0.625      0.63582516 0.62949346 0.62888072\n",
      " 0.62765523 0.62234477 0.63378268 0.62622549 0.62214052 0.62418301\n",
      " 0.22622143 0.22579089 0.2242174  0.22142124 0.21751377 0.21270539\n",
      " 0.207243   0.20136981 0.19530307 0.18922286 0.18326972 0.17754674\n",
      " 0.17212355 0.16704278 0.16232502 0.15797472 0.15398443 0.15033886\n",
      " 0.14701763 0.14399783 0.14125542 0.13876677]\n",
      "22 dat output [[0.13650888]]\n",
      "23 day input [0.75980392 0.74652778 0.76245915 0.77062908 0.80412582 0.78104575\n",
      " 0.79411765 0.76021242 0.73488562 0.72406046 0.73999183 0.74979575\n",
      " 0.76143791 0.75428922 0.74754902 0.76960784 0.7495915  0.81719771\n",
      " 0.80208333 0.77736928 0.75714869 0.79370915 0.79166667 0.77144608\n",
      " 0.75265523 0.72691993 0.6629902  0.68198529 0.64419935 0.62152778\n",
      " 0.6439951  0.66319444 0.67544935 0.63705065 0.64603758 0.65890523\n",
      " 0.65870098 0.67790033 0.63194444 0.63112745 0.62785948 0.64767157\n",
      " 0.63991013 0.63480392 0.63868464 0.62336601 0.62745098 0.63970588\n",
      " 0.64705882 0.66196895 0.67075163 0.65196078 0.63112745 0.61294935\n",
      " 0.6376634  0.62254902 0.62745098 0.63337418 0.62642974 0.63623366\n",
      " 0.58312908 0.57781863 0.57230392 0.58006536 0.57618464 0.55167484\n",
      " 0.57883987 0.625      0.63582516 0.62949346 0.62888072 0.62765523\n",
      " 0.62234477 0.63378268 0.62622549 0.62214052 0.62418301 0.22622143\n",
      " 0.22579089 0.2242174  0.22142124 0.21751377 0.21270539 0.207243\n",
      " 0.20136981 0.19530307 0.18922286 0.18326972 0.17754674 0.17212355\n",
      " 0.16704278 0.16232502 0.15797472 0.15398443 0.15033886 0.14701763\n",
      " 0.14399783 0.14125542 0.13876677 0.13650888]\n",
      "23 dat output [[0.13446037]]\n",
      "24 day input [0.74652778 0.76245915 0.77062908 0.80412582 0.78104575 0.79411765\n",
      " 0.76021242 0.73488562 0.72406046 0.73999183 0.74979575 0.76143791\n",
      " 0.75428922 0.74754902 0.76960784 0.7495915  0.81719771 0.80208333\n",
      " 0.77736928 0.75714869 0.79370915 0.79166667 0.77144608 0.75265523\n",
      " 0.72691993 0.6629902  0.68198529 0.64419935 0.62152778 0.6439951\n",
      " 0.66319444 0.67544935 0.63705065 0.64603758 0.65890523 0.65870098\n",
      " 0.67790033 0.63194444 0.63112745 0.62785948 0.64767157 0.63991013\n",
      " 0.63480392 0.63868464 0.62336601 0.62745098 0.63970588 0.64705882\n",
      " 0.66196895 0.67075163 0.65196078 0.63112745 0.61294935 0.6376634\n",
      " 0.62254902 0.62745098 0.63337418 0.62642974 0.63623366 0.58312908\n",
      " 0.57781863 0.57230392 0.58006536 0.57618464 0.55167484 0.57883987\n",
      " 0.625      0.63582516 0.62949346 0.62888072 0.62765523 0.62234477\n",
      " 0.63378268 0.62622549 0.62214052 0.62418301 0.22622143 0.22579089\n",
      " 0.2242174  0.22142124 0.21751377 0.21270539 0.207243   0.20136981\n",
      " 0.19530307 0.18922286 0.18326972 0.17754674 0.17212355 0.16704278\n",
      " 0.16232502 0.15797472 0.15398443 0.15033886 0.14701763 0.14399783\n",
      " 0.14125542 0.13876677 0.13650888 0.13446037]\n",
      "24 dat output [[0.13260154]]\n",
      "25 day input [0.76245915 0.77062908 0.80412582 0.78104575 0.79411765 0.76021242\n",
      " 0.73488562 0.72406046 0.73999183 0.74979575 0.76143791 0.75428922\n",
      " 0.74754902 0.76960784 0.7495915  0.81719771 0.80208333 0.77736928\n",
      " 0.75714869 0.79370915 0.79166667 0.77144608 0.75265523 0.72691993\n",
      " 0.6629902  0.68198529 0.64419935 0.62152778 0.6439951  0.66319444\n",
      " 0.67544935 0.63705065 0.64603758 0.65890523 0.65870098 0.67790033\n",
      " 0.63194444 0.63112745 0.62785948 0.64767157 0.63991013 0.63480392\n",
      " 0.63868464 0.62336601 0.62745098 0.63970588 0.64705882 0.66196895\n",
      " 0.67075163 0.65196078 0.63112745 0.61294935 0.6376634  0.62254902\n",
      " 0.62745098 0.63337418 0.62642974 0.63623366 0.58312908 0.57781863\n",
      " 0.57230392 0.58006536 0.57618464 0.55167484 0.57883987 0.625\n",
      " 0.63582516 0.62949346 0.62888072 0.62765523 0.62234477 0.63378268\n",
      " 0.62622549 0.62214052 0.62418301 0.22622143 0.22579089 0.2242174\n",
      " 0.22142124 0.21751377 0.21270539 0.207243   0.20136981 0.19530307\n",
      " 0.18922286 0.18326972 0.17754674 0.17212355 0.16704278 0.16232502\n",
      " 0.15797472 0.15398443 0.15033886 0.14701763 0.14399783 0.14125542\n",
      " 0.13876677 0.13650888 0.13446037 0.13260154]\n",
      "25 dat output [[0.13091427]]\n",
      "26 day input [0.77062908 0.80412582 0.78104575 0.79411765 0.76021242 0.73488562\n",
      " 0.72406046 0.73999183 0.74979575 0.76143791 0.75428922 0.74754902\n",
      " 0.76960784 0.7495915  0.81719771 0.80208333 0.77736928 0.75714869\n",
      " 0.79370915 0.79166667 0.77144608 0.75265523 0.72691993 0.6629902\n",
      " 0.68198529 0.64419935 0.62152778 0.6439951  0.66319444 0.67544935\n",
      " 0.63705065 0.64603758 0.65890523 0.65870098 0.67790033 0.63194444\n",
      " 0.63112745 0.62785948 0.64767157 0.63991013 0.63480392 0.63868464\n",
      " 0.62336601 0.62745098 0.63970588 0.64705882 0.66196895 0.67075163\n",
      " 0.65196078 0.63112745 0.61294935 0.6376634  0.62254902 0.62745098\n",
      " 0.63337418 0.62642974 0.63623366 0.58312908 0.57781863 0.57230392\n",
      " 0.58006536 0.57618464 0.55167484 0.57883987 0.625      0.63582516\n",
      " 0.62949346 0.62888072 0.62765523 0.62234477 0.63378268 0.62622549\n",
      " 0.62214052 0.62418301 0.22622143 0.22579089 0.2242174  0.22142124\n",
      " 0.21751377 0.21270539 0.207243   0.20136981 0.19530307 0.18922286\n",
      " 0.18326972 0.17754674 0.17212355 0.16704278 0.16232502 0.15797472\n",
      " 0.15398443 0.15033886 0.14701763 0.14399783 0.14125542 0.13876677\n",
      " 0.13650888 0.13446037 0.13260154 0.13091427]\n",
      "26 dat output [[0.12938224]]\n",
      "27 day input [0.80412582 0.78104575 0.79411765 0.76021242 0.73488562 0.72406046\n",
      " 0.73999183 0.74979575 0.76143791 0.75428922 0.74754902 0.76960784\n",
      " 0.7495915  0.81719771 0.80208333 0.77736928 0.75714869 0.79370915\n",
      " 0.79166667 0.77144608 0.75265523 0.72691993 0.6629902  0.68198529\n",
      " 0.64419935 0.62152778 0.6439951  0.66319444 0.67544935 0.63705065\n",
      " 0.64603758 0.65890523 0.65870098 0.67790033 0.63194444 0.63112745\n",
      " 0.62785948 0.64767157 0.63991013 0.63480392 0.63868464 0.62336601\n",
      " 0.62745098 0.63970588 0.64705882 0.66196895 0.67075163 0.65196078\n",
      " 0.63112745 0.61294935 0.6376634  0.62254902 0.62745098 0.63337418\n",
      " 0.62642974 0.63623366 0.58312908 0.57781863 0.57230392 0.58006536\n",
      " 0.57618464 0.55167484 0.57883987 0.625      0.63582516 0.62949346\n",
      " 0.62888072 0.62765523 0.62234477 0.63378268 0.62622549 0.62214052\n",
      " 0.62418301 0.22622143 0.22579089 0.2242174  0.22142124 0.21751377\n",
      " 0.21270539 0.207243   0.20136981 0.19530307 0.18922286 0.18326972\n",
      " 0.17754674 0.17212355 0.16704278 0.16232502 0.15797472 0.15398443\n",
      " 0.15033886 0.14701763 0.14399783 0.14125542 0.13876677 0.13650888\n",
      " 0.13446037 0.13260154 0.13091427 0.12938224]\n",
      "27 dat output [[0.12799081]]\n",
      "28 day input [0.78104575 0.79411765 0.76021242 0.73488562 0.72406046 0.73999183\n",
      " 0.74979575 0.76143791 0.75428922 0.74754902 0.76960784 0.7495915\n",
      " 0.81719771 0.80208333 0.77736928 0.75714869 0.79370915 0.79166667\n",
      " 0.77144608 0.75265523 0.72691993 0.6629902  0.68198529 0.64419935\n",
      " 0.62152778 0.6439951  0.66319444 0.67544935 0.63705065 0.64603758\n",
      " 0.65890523 0.65870098 0.67790033 0.63194444 0.63112745 0.62785948\n",
      " 0.64767157 0.63991013 0.63480392 0.63868464 0.62336601 0.62745098\n",
      " 0.63970588 0.64705882 0.66196895 0.67075163 0.65196078 0.63112745\n",
      " 0.61294935 0.6376634  0.62254902 0.62745098 0.63337418 0.62642974\n",
      " 0.63623366 0.58312908 0.57781863 0.57230392 0.58006536 0.57618464\n",
      " 0.55167484 0.57883987 0.625      0.63582516 0.62949346 0.62888072\n",
      " 0.62765523 0.62234477 0.63378268 0.62622549 0.62214052 0.62418301\n",
      " 0.22622143 0.22579089 0.2242174  0.22142124 0.21751377 0.21270539\n",
      " 0.207243   0.20136981 0.19530307 0.18922286 0.18326972 0.17754674\n",
      " 0.17212355 0.16704278 0.16232502 0.15797472 0.15398443 0.15033886\n",
      " 0.14701763 0.14399783 0.14125542 0.13876677 0.13650888 0.13446037\n",
      " 0.13260154 0.13091427 0.12938224 0.12799081]\n",
      "28 dat output [[0.1267267]]\n",
      "29 day input [0.79411765 0.76021242 0.73488562 0.72406046 0.73999183 0.74979575\n",
      " 0.76143791 0.75428922 0.74754902 0.76960784 0.7495915  0.81719771\n",
      " 0.80208333 0.77736928 0.75714869 0.79370915 0.79166667 0.77144608\n",
      " 0.75265523 0.72691993 0.6629902  0.68198529 0.64419935 0.62152778\n",
      " 0.6439951  0.66319444 0.67544935 0.63705065 0.64603758 0.65890523\n",
      " 0.65870098 0.67790033 0.63194444 0.63112745 0.62785948 0.64767157\n",
      " 0.63991013 0.63480392 0.63868464 0.62336601 0.62745098 0.63970588\n",
      " 0.64705882 0.66196895 0.67075163 0.65196078 0.63112745 0.61294935\n",
      " 0.6376634  0.62254902 0.62745098 0.63337418 0.62642974 0.63623366\n",
      " 0.58312908 0.57781863 0.57230392 0.58006536 0.57618464 0.55167484\n",
      " 0.57883987 0.625      0.63582516 0.62949346 0.62888072 0.62765523\n",
      " 0.62234477 0.63378268 0.62622549 0.62214052 0.62418301 0.22622143\n",
      " 0.22579089 0.2242174  0.22142124 0.21751377 0.21270539 0.207243\n",
      " 0.20136981 0.19530307 0.18922286 0.18326972 0.17754674 0.17212355\n",
      " 0.16704278 0.16232502 0.15797472 0.15398443 0.15033886 0.14701763\n",
      " 0.14399783 0.14125542 0.13876677 0.13650888 0.13446037 0.13260154\n",
      " 0.13091427 0.12938224 0.12799081 0.1267267 ]\n",
      "29 dat output [[0.12557814]]\n",
      "30 day input [0.76021242 0.73488562 0.72406046 0.73999183 0.74979575 0.76143791\n",
      " 0.75428922 0.74754902 0.76960784 0.7495915  0.81719771 0.80208333\n",
      " 0.77736928 0.75714869 0.79370915 0.79166667 0.77144608 0.75265523\n",
      " 0.72691993 0.6629902  0.68198529 0.64419935 0.62152778 0.6439951\n",
      " 0.66319444 0.67544935 0.63705065 0.64603758 0.65890523 0.65870098\n",
      " 0.67790033 0.63194444 0.63112745 0.62785948 0.64767157 0.63991013\n",
      " 0.63480392 0.63868464 0.62336601 0.62745098 0.63970588 0.64705882\n",
      " 0.66196895 0.67075163 0.65196078 0.63112745 0.61294935 0.6376634\n",
      " 0.62254902 0.62745098 0.63337418 0.62642974 0.63623366 0.58312908\n",
      " 0.57781863 0.57230392 0.58006536 0.57618464 0.55167484 0.57883987\n",
      " 0.625      0.63582516 0.62949346 0.62888072 0.62765523 0.62234477\n",
      " 0.63378268 0.62622549 0.62214052 0.62418301 0.22622143 0.22579089\n",
      " 0.2242174  0.22142124 0.21751377 0.21270539 0.207243   0.20136981\n",
      " 0.19530307 0.18922286 0.18326972 0.17754674 0.17212355 0.16704278\n",
      " 0.16232502 0.15797472 0.15398443 0.15033886 0.14701763 0.14399783\n",
      " 0.14125542 0.13876677 0.13650888 0.13446037 0.13260154 0.13091427\n",
      " 0.12938224 0.12799081 0.1267267  0.12557814]\n",
      "30 dat output [[0.12453438]]\n",
      "31 day input [0.73488562 0.72406046 0.73999183 0.74979575 0.76143791 0.75428922\n",
      " 0.74754902 0.76960784 0.7495915  0.81719771 0.80208333 0.77736928\n",
      " 0.75714869 0.79370915 0.79166667 0.77144608 0.75265523 0.72691993\n",
      " 0.6629902  0.68198529 0.64419935 0.62152778 0.6439951  0.66319444\n",
      " 0.67544935 0.63705065 0.64603758 0.65890523 0.65870098 0.67790033\n",
      " 0.63194444 0.63112745 0.62785948 0.64767157 0.63991013 0.63480392\n",
      " 0.63868464 0.62336601 0.62745098 0.63970588 0.64705882 0.66196895\n",
      " 0.67075163 0.65196078 0.63112745 0.61294935 0.6376634  0.62254902\n",
      " 0.62745098 0.63337418 0.62642974 0.63623366 0.58312908 0.57781863\n",
      " 0.57230392 0.58006536 0.57618464 0.55167484 0.57883987 0.625\n",
      " 0.63582516 0.62949346 0.62888072 0.62765523 0.62234477 0.63378268\n",
      " 0.62622549 0.62214052 0.62418301 0.22622143 0.22579089 0.2242174\n",
      " 0.22142124 0.21751377 0.21270539 0.207243   0.20136981 0.19530307\n",
      " 0.18922286 0.18326972 0.17754674 0.17212355 0.16704278 0.16232502\n",
      " 0.15797472 0.15398443 0.15033886 0.14701763 0.14399783 0.14125542\n",
      " 0.13876677 0.13650888 0.13446037 0.13260154 0.13091427 0.12938224\n",
      " 0.12799081 0.1267267  0.12557814 0.12453438]\n",
      "31 dat output [[0.12358593]]\n",
      "32 day input [0.72406046 0.73999183 0.74979575 0.76143791 0.75428922 0.74754902\n",
      " 0.76960784 0.7495915  0.81719771 0.80208333 0.77736928 0.75714869\n",
      " 0.79370915 0.79166667 0.77144608 0.75265523 0.72691993 0.6629902\n",
      " 0.68198529 0.64419935 0.62152778 0.6439951  0.66319444 0.67544935\n",
      " 0.63705065 0.64603758 0.65890523 0.65870098 0.67790033 0.63194444\n",
      " 0.63112745 0.62785948 0.64767157 0.63991013 0.63480392 0.63868464\n",
      " 0.62336601 0.62745098 0.63970588 0.64705882 0.66196895 0.67075163\n",
      " 0.65196078 0.63112745 0.61294935 0.6376634  0.62254902 0.62745098\n",
      " 0.63337418 0.62642974 0.63623366 0.58312908 0.57781863 0.57230392\n",
      " 0.58006536 0.57618464 0.55167484 0.57883987 0.625      0.63582516\n",
      " 0.62949346 0.62888072 0.62765523 0.62234477 0.63378268 0.62622549\n",
      " 0.62214052 0.62418301 0.22622143 0.22579089 0.2242174  0.22142124\n",
      " 0.21751377 0.21270539 0.207243   0.20136981 0.19530307 0.18922286\n",
      " 0.18326972 0.17754674 0.17212355 0.16704278 0.16232502 0.15797472\n",
      " 0.15398443 0.15033886 0.14701763 0.14399783 0.14125542 0.13876677\n",
      " 0.13650888 0.13446037 0.13260154 0.13091427 0.12938224 0.12799081\n",
      " 0.1267267  0.12557814 0.12453438 0.12358593]\n",
      "32 dat output [[0.12272411]]\n",
      "33 day input [0.73999183 0.74979575 0.76143791 0.75428922 0.74754902 0.76960784\n",
      " 0.7495915  0.81719771 0.80208333 0.77736928 0.75714869 0.79370915\n",
      " 0.79166667 0.77144608 0.75265523 0.72691993 0.6629902  0.68198529\n",
      " 0.64419935 0.62152778 0.6439951  0.66319444 0.67544935 0.63705065\n",
      " 0.64603758 0.65890523 0.65870098 0.67790033 0.63194444 0.63112745\n",
      " 0.62785948 0.64767157 0.63991013 0.63480392 0.63868464 0.62336601\n",
      " 0.62745098 0.63970588 0.64705882 0.66196895 0.67075163 0.65196078\n",
      " 0.63112745 0.61294935 0.6376634  0.62254902 0.62745098 0.63337418\n",
      " 0.62642974 0.63623366 0.58312908 0.57781863 0.57230392 0.58006536\n",
      " 0.57618464 0.55167484 0.57883987 0.625      0.63582516 0.62949346\n",
      " 0.62888072 0.62765523 0.62234477 0.63378268 0.62622549 0.62214052\n",
      " 0.62418301 0.22622143 0.22579089 0.2242174  0.22142124 0.21751377\n",
      " 0.21270539 0.207243   0.20136981 0.19530307 0.18922286 0.18326972\n",
      " 0.17754674 0.17212355 0.16704278 0.16232502 0.15797472 0.15398443\n",
      " 0.15033886 0.14701763 0.14399783 0.14125542 0.13876677 0.13650888\n",
      " 0.13446037 0.13260154 0.13091427 0.12938224 0.12799081 0.1267267\n",
      " 0.12557814 0.12453438 0.12358593 0.12272411]\n",
      "33 dat output [[0.12194116]]\n",
      "34 day input [0.74979575 0.76143791 0.75428922 0.74754902 0.76960784 0.7495915\n",
      " 0.81719771 0.80208333 0.77736928 0.75714869 0.79370915 0.79166667\n",
      " 0.77144608 0.75265523 0.72691993 0.6629902  0.68198529 0.64419935\n",
      " 0.62152778 0.6439951  0.66319444 0.67544935 0.63705065 0.64603758\n",
      " 0.65890523 0.65870098 0.67790033 0.63194444 0.63112745 0.62785948\n",
      " 0.64767157 0.63991013 0.63480392 0.63868464 0.62336601 0.62745098\n",
      " 0.63970588 0.64705882 0.66196895 0.67075163 0.65196078 0.63112745\n",
      " 0.61294935 0.6376634  0.62254902 0.62745098 0.63337418 0.62642974\n",
      " 0.63623366 0.58312908 0.57781863 0.57230392 0.58006536 0.57618464\n",
      " 0.55167484 0.57883987 0.625      0.63582516 0.62949346 0.62888072\n",
      " 0.62765523 0.62234477 0.63378268 0.62622549 0.62214052 0.62418301\n",
      " 0.22622143 0.22579089 0.2242174  0.22142124 0.21751377 0.21270539\n",
      " 0.207243   0.20136981 0.19530307 0.18922286 0.18326972 0.17754674\n",
      " 0.17212355 0.16704278 0.16232502 0.15797472 0.15398443 0.15033886\n",
      " 0.14701763 0.14399783 0.14125542 0.13876677 0.13650888 0.13446037\n",
      " 0.13260154 0.13091427 0.12938224 0.12799081 0.1267267  0.12557814\n",
      " 0.12453438 0.12358593 0.12272411 0.12194116]\n",
      "34 dat output [[0.12123]]\n",
      "[[0.22622142732143402], [0.22579088807106018], [0.22421739995479584], [0.2214212417602539], [0.217513769865036], [0.21270538866519928], [0.20724299550056458], [0.20136980712413788], [0.1953030675649643], [0.18922285735607147], [0.18326972424983978], [0.17754673957824707], [0.17212355136871338], [0.1670427769422531], [0.16232502460479736], [0.1579747200012207], [0.1539844274520874], [0.15033885836601257], [0.14701762795448303], [0.14399783313274384], [0.1412554234266281], [0.13876676559448242], [0.13650888204574585], [0.13446037471294403], [0.1326015442609787], [0.13091427087783813], [0.12938223779201508], [0.12799081206321716], [0.12672670185565948], [0.1255781352519989], [0.12453437596559525], [0.12358593195676804], [0.12272410839796066], [0.12194116413593292], [0.12122999876737595]]\n"
     ]
    }
   ],
   "source": [
    "lst_output=[]\n",
    "n_steps=100\n",
    "i=0\n",
    "while(i<35):\n",
    "    \n",
    "    if(len(temp_input)>100):\n",
    "        #print(temp_input)\n",
    "        pred_input=np.array(temp_input[1:]) # for last 100 data\n",
    "        print(\"{} day input {}\".format(i,pred_input))\n",
    "        pred_input=pred_input.reshape((1, n_steps, 1))\n",
    "        #print(x_input)\n",
    "        yhat = model.predict(pred_input, verbose=0)\n",
    "        print(\"{} dat output {}\".format(i,yhat))\n",
    "        temp_input.extend(yhat[0].tolist())\n",
    "        temp_input=temp_input[1:]\n",
    "        #print(temp_input)\n",
    "        lst_output.extend(yhat.tolist())\n",
    "        i=i+1\n",
    "    else:\n",
    "        pred_input = pred_input.reshape((1, n_steps,1))\n",
    "        yhat = model.predict(pred_input, verbose=0)\n",
    "        print(yhat[0])\n",
    "        temp_input.extend(yhat[0].tolist())\n",
    "        print(len(temp_input))\n",
    "        lst_output.extend(yhat.tolist())\n",
    "        i=i+1\n",
    "\n",
    "print(lst_output)"
   ]
  },
  {
   "cell_type": "markdown",
   "id": "641eea26",
   "metadata": {},
   "source": [
    "ploting last 150 days closing Price"
   ]
  },
  {
   "cell_type": "code",
   "execution_count": 57,
   "id": "d6f98dc1",
   "metadata": {},
   "outputs": [],
   "source": [
    "day_new = np.arange(1,50)\n",
    "day_pred = np.arange(50,101)"
   ]
  },
  {
   "cell_type": "code",
   "execution_count": 58,
   "id": "c6971a1d",
   "metadata": {},
   "outputs": [
    {
     "data": {
      "text/plain": [
       "(49,)"
      ]
     },
     "execution_count": 58,
     "metadata": {},
     "output_type": "execute_result"
    }
   ],
   "source": [
    "day_new.shape"
   ]
  },
  {
   "cell_type": "code",
   "execution_count": 59,
   "id": "fd84c777",
   "metadata": {},
   "outputs": [
    {
     "data": {
      "text/plain": [
       "(51,)"
      ]
     },
     "execution_count": 59,
     "metadata": {},
     "output_type": "execute_result"
    }
   ],
   "source": [
    "day_pred.shape"
   ]
  },
  {
   "cell_type": "code",
   "execution_count": 60,
   "id": "29bc3253",
   "metadata": {},
   "outputs": [],
   "source": [
    "day_new = np.arange(1,101)\n",
    "day_pred = np.arange(101,151)"
   ]
  },
  {
   "cell_type": "code",
   "execution_count": 61,
   "id": "ba128b70",
   "metadata": {},
   "outputs": [
    {
     "data": {
      "text/plain": [
       "(100,)"
      ]
     },
     "execution_count": 61,
     "metadata": {},
     "output_type": "execute_result"
    }
   ],
   "source": [
    "day_new.shape"
   ]
  },
  {
   "cell_type": "code",
   "execution_count": 62,
   "id": "d4dd62b1",
   "metadata": {},
   "outputs": [
    {
     "data": {
      "text/plain": [
       "(50,)"
      ]
     },
     "execution_count": 62,
     "metadata": {},
     "output_type": "execute_result"
    }
   ],
   "source": [
    "day_pred.shape"
   ]
  },
  {
   "cell_type": "code",
   "execution_count": 63,
   "id": "1c388487",
   "metadata": {},
   "outputs": [
    {
     "data": {
      "text/plain": [
       "2035"
      ]
     },
     "execution_count": 63,
     "metadata": {},
     "output_type": "execute_result"
    }
   ],
   "source": [
    "len(dataset)"
   ]
  },
  {
   "cell_type": "markdown",
   "id": "b117b0fb",
   "metadata": {},
   "source": [
    "Appending in a list is done to make continuous graph"
   ]
  },
  {
   "cell_type": "code",
   "execution_count": 64,
   "id": "2ff5c604",
   "metadata": {},
   "outputs": [
    {
     "name": "stdout",
     "output_type": "stream",
     "text": [
      "2035\n"
     ]
    }
   ],
   "source": [
    "print(len(dataset))"
   ]
  },
  {
   "cell_type": "code",
   "execution_count": 67,
   "id": "1904c332",
   "metadata": {},
   "outputs": [
    {
     "data": {
      "text/plain": [
       "[<matplotlib.lines.Line2D at 0x19fc2d0b400>]"
      ]
     },
     "execution_count": 67,
     "metadata": {},
     "output_type": "execute_result"
    },
    {
     "data": {
      "image/png": "[encoded data removed]",
      "text/plain": [
       "<Figure size 1000x700 with 1 Axes>"
      ]
     },
     "metadata": {},
     "output_type": "display_data"
    }
   ],
   "source": [
    "plt.figure(figsize=(10,7))\n",
    "plt.plot(close_srt[1935:]) #last 100 days output"
   ]
  },
  {
   "cell_type": "markdown",
   "id": "d666fa95",
   "metadata": {},
   "source": [
    "Plotting the graph with predicted 30 days output"
   ]
  },
  {
   "cell_type": "code",
   "execution_count": 72,
   "id": "bd9fc6f8",
   "metadata": {},
   "outputs": [],
   "source": [
    "dataset = Scaler.inverse_transform(close_srt).tolist() # undoing Scaling of dataset"
   ]
  },
  {
   "cell_type": "code",
   "execution_count": 73,
   "id": "88fd3cb7",
   "metadata": {},
   "outputs": [
    {
     "data": {
      "text/plain": [
       "[<matplotlib.lines.Line2D at 0x19fc3b1f580>]"
      ]
     },
     "execution_count": 73,
     "metadata": {},
     "output_type": "execute_result"
    },
    {
     "data": {
      "image/png": "[encoded data removed]",
      "text/plain": [
       "<Figure size 1000x700 with 1 Axes>"
      ]
     },
     "metadata": {},
     "output_type": "display_data"
    }
   ],
   "source": [
    "plt.figure(figsize=(10,7))\n",
    "plt.plot(close_srt)"
   ]
  },
  {
   "cell_type": "code",
   "execution_count": null,
   "id": "3e55d2f3",
   "metadata": {},
   "outputs": [],
   "source": []
  },
  {
   "cell_type": "code",
   "execution_count": null,
   "id": "d3f421fe",
   "metadata": {},
   "outputs": [],
   "source": []
  }
 ],
 "metadata": {
  "kernelspec": {
   "display_name": "Python 3 (ipykernel)",
   "language": "python",
   "name": "python3"
  },
  "language_info": {
   "codemirror_mode": {
    "name": "ipython",
    "version": 3
   },
   "file_extension": ".py",
   "mimetype": "text/x-python",
   "name": "python",
   "nbconvert_exporter": "python",
   "pygments_lexer": "ipython3",
   "version": "3.9.17"
  }
 },
 "nbformat": 4,
 "nbformat_minor": 5
}
